{
 "cells": [
  {
   "cell_type": "markdown",
   "metadata": {},
   "source": [
    "|Балл|Сделано|Задание|\n",
    "|--|--|--|\n",
    "|-|да|создайте репозиторий на github.com и сделайте его приватным|\n",
    "|-|да|подключитесь к https://education.github.com/pack с помощью edu.hse.ru почты,|\n",
    "|-|да|добавьте в collaborators вашего репозитория (https://clck.ru/KMP9Z) четырёх человек: esolovev, eszakharova, akseryanin, ldsad7|\n",
    "|-|да|используйте type annotations|\n",
    "|-|да|используйте проверку на корректность переданных параметров функции|\n",
    "|-|да|нельзя использовать pandas и numpy|\n",
    "|3|да|Напишите функцию без параметров, возвращающую генератор, который последовательно возвращает информацию о фильмах из Топ-500 КиноПоиска в виде словаря|\n",
    "|1|да|Добавьте в функцию параметры, ограничивающие количество фильмов и изменяющие время перерыва между запросами|\n",
    "|0.5|да|Выгрузите весь Топ-500 и превратите его в список словарей. Отсортируйте этот список по убыванию рейтинга IMDb|\n",
    "|0.5|да|Используйте один из контейнеров из модуля collections, чтобы собрать словарь вида \"год выхода фильма -> количество фильмов из топ-500, вышедших в этот год\". Выведите самый популярный год, а также минимальный и максимальный.|\n",
    "|1.5|да|Напишите функцию, которая записывает ваш список словарей в файл в нужном формате, сортируя его по выбранному полю по возрастанию или убыванию.|\n",
    "|0.5|да|Напишите функцию, возвращающую строку, представлящую случайный IPv4-адрес|\n",
    "|0.5|да|Сгенерируйте список из 100 разных IPv4-адресов|\n",
    "|1|да|С помощью https://freegeoip.app/ выгрузите для каждого из этих адресов информацию в формате JSON|\n",
    "|1.5|да|Сгенерируйте случайный момент времени в 2019 году. Выведите его в виде unix timestamp. Приведите его ко всем встретившимся часовым поясам|\n",
    "|**10**|**ВСЕГО БАЛЛОВ**|должно быть|"
   ]
  },
  {
   "cell_type": "code",
   "execution_count": 98,
   "metadata": {},
   "outputs": [
    {
     "data": {
      "text/plain": [
       "10.0"
      ]
     },
     "execution_count": 98,
     "metadata": {},
     "output_type": "execute_result"
    }
   ],
   "source": [
    "1.5 + 1 + 0.5 + 0.5 + 1.5 + 0.5 + 0.5 + 3 + 1"
   ]
  },
  {
   "cell_type": "code",
   "execution_count": 1,
   "metadata": {},
   "outputs": [],
   "source": [
    "from tqdm import tqdm"
   ]
  },
  {
   "cell_type": "code",
   "execution_count": 2,
   "metadata": {},
   "outputs": [],
   "source": [
    "import time\n",
    "import re\n",
    "from bs4 import BeautifulSoup\n",
    "from urllib.request import Request, urlopen\n",
    "from typing import List, Dict, Union, Any\n",
    "import requests\n",
    "import json"
   ]
  },
  {
   "cell_type": "markdown",
   "metadata": {},
   "source": [
    "## Часть 1\n",
    "\n",
    "### 1)\n",
    "\n",
    "~~Напишите функцию без параметров, возвращающую iterable-объект, который последовательно возвращает информацию о фильмах из Топ-500 КиноПоиска в виде словаря. ~~\n",
    "\n",
    "\n",
    "Напишите функцию без параметров, возвращающую генератор, который последовательно возвращает информацию о фильмах из Топ-500 КиноПоиска в виде словаря."
   ]
  },
  {
   "cell_type": "code",
   "execution_count": 50,
   "metadata": {},
   "outputs": [],
   "source": [
    "def task_1():\n",
    "    link = 'https://www.kinopoisk.ru/top/lists/1/filtr/all/sort/order/perpage/200/page/{}'\n",
    "    all_films = []\n",
    "    for i in range(1,4):\n",
    "        try:\n",
    "            f = urlopen(Request(link.format(i), headers={'User-Agent': 'Mozilla/5.0'}))\n",
    "        except urllib.error.HTTPError:\n",
    "            print('An Error occured')\n",
    "        else:\n",
    "            page = f.read().decode('utf-8')\n",
    "            films_raw = re.findall('<tr .*? class=\" js-film-list-item\">(.*?)</tr>', page, flags=re.DOTALL)\n",
    "            \n",
    "            if len(films_raw) == 0:\n",
    "                raise TimeoutError('вас заблочили')\n",
    "\n",
    "            for film_raw in films_raw:            \n",
    "                name = re.search('data-title=\"(.*?)\"', film_raw).group(1).replace('&nbsp;', ' ')\n",
    "                rank = re.search('class=\"num rangImp\">(.*?)<', film_raw).group(1)\n",
    "                kp = re.search('data-film-rating=\"(.*?)\"', film_raw).group(1)\n",
    "                imdb = re.search('IMDb: (.*?)<', film_raw).group(1)\n",
    "                year = re.search('block\">.*?\\((.*?)\\) <nobr', film_raw).group(1)\n",
    "                url = re.search('<a style=\"font-size: 13px; font-weight: bold\" href=\"(.*?)\"',\n",
    "                                film_raw, flags=re.DOTALL).group(1)\n",
    "\n",
    "                timestamp = time.strftime(\"%Y-%m-%d %H:%M:%S\", time.gmtime())\n",
    "\n",
    "                film = {\n",
    "                    'rank': int(rank),\n",
    "                    'name': name,\n",
    "                    'kp_rating': float(kp),\n",
    "                    'imdb_rating': float(imdb),\n",
    "                    'year': int(year),\n",
    "                    'url': 'https://www.kinopoisk.ru' + url,\n",
    "                    '_utc_timestamp': timestamp\n",
    "                }\n",
    "\n",
    "                all_films.append(film)\n",
    "\n",
    "        time.sleep(0.5)\n",
    "    return (film for film in all_films)"
   ]
  },
  {
   "cell_type": "code",
   "execution_count": 51,
   "metadata": {},
   "outputs": [],
   "source": [
    "top_films = task_1()"
   ]
  },
  {
   "cell_type": "code",
   "execution_count": 54,
   "metadata": {},
   "outputs": [
    {
     "data": {
      "text/plain": [
       "{'rank': 3,\n",
       " 'name': 'Форрест Гамп',\n",
       " 'kp_rating': 8.913,\n",
       " 'imdb_rating': 8.8,\n",
       " 'year': 1994,\n",
       " 'url': 'https://www.kinopoisk.ruhttps://www.kinopoisk.ru/film/448/',\n",
       " '_utc_timestamp': '2019-12-17 18:42:44'}"
      ]
     },
     "execution_count": 54,
     "metadata": {},
     "output_type": "execute_result"
    }
   ],
   "source": [
    "next(top_films)"
   ]
  },
  {
   "cell_type": "code",
   "execution_count": 81,
   "metadata": {},
   "outputs": [
    {
     "name": "stdout",
     "output_type": "stream",
     "text": [
      "1994 1999 1994 1993 2011 2010 1994 1994 1999 1973 1997 1997 1972 1994 1965 2006 2001 2014 2000 2003 1985 1998 1999 1968 2006 2002 2002 1973 2001 2008 2000 2017 2002 1998 1971 2003 2009 1975 2008 1997 1956 1992 1959 1990 2008 1931 2001 1972 1947 1966 1966 2004 1981 1995 1990 1998 2010 1991 2012 1974 1988 2005 1997 1995 1980 1979 2008 2013 2011 1988 2016 2000 1999 1957 1971 1921 1998 2006 1976 2003 1959 1989 1991 2004 1980 1983 1953 1995 1939 1977 2012 2019 2006 2005 1984 1997 2004 1980 1975 2004 2013 2018 1997 1959 2012 2004 1957 1962 1979 2008 1989 2001 1997 1995 1990 1993 2011 1980 1964 1992 1988 2009 1936 2002 1966 1984 2019 1998 2010 2008 1980 1973 1990 1990 1971 2004 2002 2005 1983 2004 1997 1990 1990 2006 1983 1965 2002 2010 2015 1976 1968 2008 1968 2001 2009 2001 1954 1954 1961 1991 2000 2004 2001 1980 1982 2011 2017 1979 1979 1964 1966 2005 2005 2005 2016 1980 2006 1999 1988 2014 1989 2000 1995 1999 1997 1983 2008 1960 1981 2007 1988 2012 2001 2005 2003 1975 1966 1928 2004 2001 2000 1984 2010 2013 2007 2008 2005 2001 2014 2001 2008 2006 2011 2014 1999 2007 2009 1988 1988 1962 1925 2019 2004 1987 2003 2009 1998 1980 2010 2000 2009 1975 1998 1952 2012 2013 1976 1989 1997 2000 2003 1979 1981 2010 1955 1987 2007 1981 1985 1962 1997 2006 1987 1981 1955 2003 1954 1999 1997 2004 2007 1988 2014 1966 1986 1957 1976 1978 1988 1993 1971 2000 2016 1986 2007 1975 1984 1986 1957 2007 1984 1993 2007 1968 1940 1959 1962 1982 1956 1977 2001 1960 1993 1942 1982 1968 1986 1987 2016 1979 1979 1987 2005 1963 1987 1998 1995 1973 1957 1998 1992 1950 1964 1971 2001 2008 1978 2012 2019 1971 1994 1980 1999 1997 2003 1979 2004 1981 1939 1981 1957 1973 2006 1994 1968 1966 1973 1927 1987 2009 2004 1961 1977 1984 1952 1988 1998 1968 1973 1959 2004 1950 1964 1966 1964 2007 1981 2007 2000 1963 1954 1952 2009 2014 2002 2005 1999 2002 1956 1981 2005 1995 2018 1985 2006 1978 2012 1995 1996 2009 1993 2007 1942 1950 1960 1999 1994 1981 1990 2001 1990 2005 2010 2000 1944 1988 1964 1969 1969 2003 1994 2006 2018 1995 2000 1973 1993 1957 1987 1966 2009 1968 1995 1931 2014 2004 1987 1978 1960 2009 1998 1940 2012 2002 1963 2006 1991 1971 1940 1965 2005 2000 1999 1970 2014 2003 2003 1979 2013 1968 1952 2011 2011 2003 1974 1987 2002 2012 1960 2018 1995 1957 1984 2001 1993 1970 1973 2005 1963 2004 1965 1975 2004 1995 1988 1972 2005 2018 1961 2015 1982 1970 2010 1999 1987 1949 1964 1953 1992 1951 2003 2004 1962 1983 2015 1989 2007 1965 2002 2001 1999 1986 2001 2008 1970 2018 1961 1970 1947 1925 "
     ]
    }
   ],
   "source": [
    "for film in task_1():\n",
    "    print(film['year'], end=' ')"
   ]
  },
  {
   "cell_type": "markdown",
   "metadata": {},
   "source": [
    "### 2)\n",
    "\n",
    "Добавьте в функцию параметры, ограничивающие количество фильмов (чтобы вместо всего Топа-500 можно было скачать, например, 17 первых фильмов) и изменяющие время перерыва между запросами (чтобы вместо 0.5 с можно было задавать произвольное время в секундах). Добавьте проверку на корректность переданных параметров функции - если передано некорректное значение аргумента, нужно выбрасывать подходящее исключение."
   ]
  },
  {
   "cell_type": "code",
   "execution_count": 93,
   "metadata": {},
   "outputs": [],
   "source": [
    "def task_2(count: int = 500,\n",
    "           sleep_time: float = 0.5) -> List[Dict[str, Any]]:\n",
    "    \n",
    "    if type(count) != int:\n",
    "        raise TypeError('count must be of type (int)')\n",
    "        \n",
    "    if type(sleep_time) == int:\n",
    "        sleep_time = float(sleep_time)\n",
    "    assert type(sleep_time) == float, 'sleep_time must be of type (float)'\n",
    "    \n",
    "    link = 'https://www.kinopoisk.ru/top/lists/1/filtr/all/sort/order/perpage/200/page/{}'\n",
    "    \n",
    "    all_films = []\n",
    "    complete = False\n",
    "    \n",
    "    for i in range(1,4):\n",
    "        try:\n",
    "            f = urlopen(Request(link.format(i), headers={'User-Agent': 'Mozilla/5.0'}))\n",
    "        except urllib.error.HTTPError:\n",
    "            print('An Error occured')\n",
    "        else:\n",
    "            page = f.read().decode('utf-8')\n",
    "            films_raw = re.findall('<tr .*? class=\" js-film-list-item\">(.*?)</tr>', page, flags=re.DOTALL)\n",
    "\n",
    "            for film_raw in films_raw:            \n",
    "                name = re.search('data-title=\"(.*?)\"', film_raw).group(1).replace('&nbsp;', ' ')\n",
    "                rank = re.search('class=\"num rangImp\">(.*?)<', film_raw).group(1)\n",
    "                kp = re.search('data-film-rating=\"(.*?)\"', film_raw).group(1)\n",
    "                imdb = re.search('IMDb: (.*?)<', film_raw).group(1)\n",
    "                year = re.search('block\">.*?\\((.*?)\\) <nobr', film_raw).group(1)\n",
    "                url = re.search('<a style=\"font-size: 13px; font-weight: bold\" href=\"(.*?)\"',\n",
    "                                film_raw, flags=re.DOTALL).group(1)\n",
    "\n",
    "                timestamp = time.strftime(\"%Y-%m-%d %H:%M:%S\", time.gmtime())\n",
    "\n",
    "                film = {\n",
    "                    'rank': int(rank),\n",
    "                    'name': name,\n",
    "                    'kp_rating': float(kp),\n",
    "                    'imdb_rating': float(imdb),\n",
    "                    'year': int(year),\n",
    "                    'url': 'https://www.kinopoisk.ru' + url,\n",
    "                    '_utc_timestamp': timestamp\n",
    "                }\n",
    "\n",
    "                all_films.append(film)\n",
    "                \n",
    "                if len(all_films) == count:\n",
    "                    print('ТОП-{} готов!'.format(count))\n",
    "                    complete = True\n",
    "                    break\n",
    "        if complete:\n",
    "            break\n",
    "\n",
    "        time.sleep(sleep_time)\n",
    "    return (film for film in all_films)"
   ]
  },
  {
   "cell_type": "code",
   "execution_count": 97,
   "metadata": {},
   "outputs": [
    {
     "data": {
      "text/plain": [
       "'2019-12-17 18:53:49'"
      ]
     },
     "execution_count": 97,
     "metadata": {},
     "output_type": "execute_result"
    }
   ],
   "source": [
    "time.strftime(\"%Y-%m-%d %H:%M:%S\", time.gmtime())"
   ]
  },
  {
   "cell_type": "code",
   "execution_count": 94,
   "metadata": {},
   "outputs": [
    {
     "name": "stdout",
     "output_type": "stream",
     "text": [
      "ТОП-17 готов!\n"
     ]
    }
   ],
   "source": [
    "top17 = task_2(count = 17, sleep_time = 1)"
   ]
  },
  {
   "cell_type": "code",
   "execution_count": 95,
   "metadata": {},
   "outputs": [
    {
     "data": {
      "text/plain": [
       "generator"
      ]
     },
     "execution_count": 95,
     "metadata": {},
     "output_type": "execute_result"
    }
   ],
   "source": [
    "type(top17)"
   ]
  },
  {
   "cell_type": "code",
   "execution_count": 96,
   "metadata": {},
   "outputs": [
    {
     "data": {
      "text/plain": [
       "{'rank': 1,\n",
       " 'name': 'Побег из Шоушенка',\n",
       " 'kp_rating': 9.112,\n",
       " 'imdb_rating': 9.3,\n",
       " 'year': 1994,\n",
       " 'url': 'https://www.kinopoisk.ruhttps://www.kinopoisk.ru/film/326/',\n",
       " '_utc_timestamp': '2019-12-17 18:53:03'}"
      ]
     },
     "execution_count": 96,
     "metadata": {},
     "output_type": "execute_result"
    }
   ],
   "source": [
    "next(top17)"
   ]
  },
  {
   "cell_type": "code",
   "execution_count": 72,
   "metadata": {},
   "outputs": [
    {
     "ename": "StopIteration",
     "evalue": "",
     "output_type": "error",
     "traceback": [
      "\u001b[1;31m---------------------------------------------------------------------------\u001b[0m",
      "\u001b[1;31mStopIteration\u001b[0m                             Traceback (most recent call last)",
      "\u001b[1;32m<ipython-input-72-eeff3343f0e5>\u001b[0m in \u001b[0;36m<module>\u001b[1;34m\u001b[0m\n\u001b[1;32m----> 1\u001b[1;33m \u001b[0mnext\u001b[0m\u001b[1;33m(\u001b[0m\u001b[0mtop17\u001b[0m\u001b[1;33m)\u001b[0m\u001b[1;33m\u001b[0m\u001b[1;33m\u001b[0m\u001b[0m\n\u001b[0m",
      "\u001b[1;31mStopIteration\u001b[0m: "
     ]
    }
   ],
   "source": [
    "next(top17)"
   ]
  },
  {
   "cell_type": "code",
   "execution_count": 73,
   "metadata": {},
   "outputs": [
    {
     "ename": "TypeError",
     "evalue": "count must be of type (int)",
     "output_type": "error",
     "traceback": [
      "\u001b[1;31m---------------------------------------------------------------------------\u001b[0m",
      "\u001b[1;31mTypeError\u001b[0m                                 Traceback (most recent call last)",
      "\u001b[1;32m<ipython-input-73-b11730416834>\u001b[0m in \u001b[0;36m<module>\u001b[1;34m\u001b[0m\n\u001b[1;32m----> 1\u001b[1;33m \u001b[0mwrong_count\u001b[0m \u001b[1;33m=\u001b[0m \u001b[0mtask_2\u001b[0m\u001b[1;33m(\u001b[0m\u001b[0mcount\u001b[0m \u001b[1;33m=\u001b[0m \u001b[1;34m'lol'\u001b[0m\u001b[1;33m,\u001b[0m \u001b[0msleep_time\u001b[0m \u001b[1;33m=\u001b[0m \u001b[1;36m1\u001b[0m\u001b[1;33m)\u001b[0m\u001b[1;33m\u001b[0m\u001b[1;33m\u001b[0m\u001b[0m\n\u001b[0m",
      "\u001b[1;32m<ipython-input-58-651e33cec3ad>\u001b[0m in \u001b[0;36mtask_2\u001b[1;34m(count, sleep_time)\u001b[0m\n\u001b[0;32m      3\u001b[0m \u001b[1;33m\u001b[0m\u001b[0m\n\u001b[0;32m      4\u001b[0m     \u001b[1;32mif\u001b[0m \u001b[0mtype\u001b[0m\u001b[1;33m(\u001b[0m\u001b[0mcount\u001b[0m\u001b[1;33m)\u001b[0m \u001b[1;33m!=\u001b[0m \u001b[0mint\u001b[0m\u001b[1;33m:\u001b[0m\u001b[1;33m\u001b[0m\u001b[1;33m\u001b[0m\u001b[0m\n\u001b[1;32m----> 5\u001b[1;33m         \u001b[1;32mraise\u001b[0m \u001b[0mTypeError\u001b[0m\u001b[1;33m(\u001b[0m\u001b[1;34m'count must be of type (int)'\u001b[0m\u001b[1;33m)\u001b[0m\u001b[1;33m\u001b[0m\u001b[1;33m\u001b[0m\u001b[0m\n\u001b[0m\u001b[0;32m      6\u001b[0m \u001b[1;33m\u001b[0m\u001b[0m\n\u001b[0;32m      7\u001b[0m     \u001b[1;32mif\u001b[0m \u001b[0mtype\u001b[0m\u001b[1;33m(\u001b[0m\u001b[0msleep_time\u001b[0m\u001b[1;33m)\u001b[0m \u001b[1;33m==\u001b[0m \u001b[0mint\u001b[0m\u001b[1;33m:\u001b[0m\u001b[1;33m\u001b[0m\u001b[1;33m\u001b[0m\u001b[0m\n",
      "\u001b[1;31mTypeError\u001b[0m: count must be of type (int)"
     ]
    }
   ],
   "source": [
    "wrong_count = task_2(count = 'lol', sleep_time = 1)"
   ]
  },
  {
   "cell_type": "code",
   "execution_count": 75,
   "metadata": {},
   "outputs": [
    {
     "ename": "AssertionError",
     "evalue": "sleep_time must be of type (float)",
     "output_type": "error",
     "traceback": [
      "\u001b[1;31m---------------------------------------------------------------------------\u001b[0m",
      "\u001b[1;31mAssertionError\u001b[0m                            Traceback (most recent call last)",
      "\u001b[1;32m<ipython-input-75-e36378c9f538>\u001b[0m in \u001b[0;36m<module>\u001b[1;34m\u001b[0m\n\u001b[1;32m----> 1\u001b[1;33m \u001b[0mwring_count\u001b[0m \u001b[1;33m=\u001b[0m \u001b[0mtask_2\u001b[0m\u001b[1;33m(\u001b[0m\u001b[0mcount\u001b[0m \u001b[1;33m=\u001b[0m \u001b[1;36m17\u001b[0m\u001b[1;33m,\u001b[0m \u001b[0msleep_time\u001b[0m \u001b[1;33m=\u001b[0m \u001b[1;34m'lol'\u001b[0m\u001b[1;33m)\u001b[0m\u001b[1;33m\u001b[0m\u001b[1;33m\u001b[0m\u001b[0m\n\u001b[0m",
      "\u001b[1;32m<ipython-input-58-651e33cec3ad>\u001b[0m in \u001b[0;36mtask_2\u001b[1;34m(count, sleep_time)\u001b[0m\n\u001b[0;32m      7\u001b[0m     \u001b[1;32mif\u001b[0m \u001b[0mtype\u001b[0m\u001b[1;33m(\u001b[0m\u001b[0msleep_time\u001b[0m\u001b[1;33m)\u001b[0m \u001b[1;33m==\u001b[0m \u001b[0mint\u001b[0m\u001b[1;33m:\u001b[0m\u001b[1;33m\u001b[0m\u001b[1;33m\u001b[0m\u001b[0m\n\u001b[0;32m      8\u001b[0m         \u001b[0msleep_time\u001b[0m \u001b[1;33m=\u001b[0m \u001b[0mfloat\u001b[0m\u001b[1;33m(\u001b[0m\u001b[0msleep_time\u001b[0m\u001b[1;33m)\u001b[0m\u001b[1;33m\u001b[0m\u001b[1;33m\u001b[0m\u001b[0m\n\u001b[1;32m----> 9\u001b[1;33m     \u001b[1;32massert\u001b[0m \u001b[0mtype\u001b[0m\u001b[1;33m(\u001b[0m\u001b[0msleep_time\u001b[0m\u001b[1;33m)\u001b[0m \u001b[1;33m==\u001b[0m \u001b[0mfloat\u001b[0m\u001b[1;33m,\u001b[0m \u001b[1;34m'sleep_time must be of type (float)'\u001b[0m\u001b[1;33m\u001b[0m\u001b[1;33m\u001b[0m\u001b[0m\n\u001b[0m\u001b[0;32m     10\u001b[0m \u001b[1;33m\u001b[0m\u001b[0m\n\u001b[0;32m     11\u001b[0m     \u001b[0mlink\u001b[0m \u001b[1;33m=\u001b[0m \u001b[1;34m'https://www.kinopoisk.ru/top/lists/1/filtr/all/sort/order/perpage/200/page/{}'\u001b[0m\u001b[1;33m\u001b[0m\u001b[1;33m\u001b[0m\u001b[0m\n",
      "\u001b[1;31mAssertionError\u001b[0m: sleep_time must be of type (float)"
     ]
    }
   ],
   "source": [
    "wring_count = task_2(count = 17, sleep_time = 'lol')"
   ]
  },
  {
   "cell_type": "markdown",
   "metadata": {},
   "source": [
    "### 3)\n",
    "\n",
    "Выгрузите весь Топ-500 и превратите его в список словарей. Отсортируйте этот список по убыванию рейтинга IMDb"
   ]
  },
  {
   "cell_type": "code",
   "execution_count": 82,
   "metadata": {},
   "outputs": [],
   "source": [
    "top500 = [film for film in task_1()]"
   ]
  },
  {
   "cell_type": "code",
   "execution_count": 83,
   "metadata": {},
   "outputs": [
    {
     "data": {
      "text/plain": [
       "500"
      ]
     },
     "execution_count": 83,
     "metadata": {},
     "output_type": "execute_result"
    }
   ],
   "source": [
    "len(top500)"
   ]
  },
  {
   "cell_type": "code",
   "execution_count": 84,
   "metadata": {},
   "outputs": [],
   "source": [
    "output = sorted(top500, key=lambda x: x['imdb_rating'], reverse=True)"
   ]
  },
  {
   "cell_type": "code",
   "execution_count": 85,
   "metadata": {},
   "outputs": [
    {
     "data": {
      "text/plain": [
       "{'rank': 1,\n",
       " 'name': 'Побег из Шоушенка',\n",
       " 'kp_rating': 9.112,\n",
       " 'imdb_rating': 9.3,\n",
       " 'year': 1994,\n",
       " 'url': 'https://www.kinopoisk.ruhttps://www.kinopoisk.ru/film/326/',\n",
       " '_utc_timestamp': '2019-12-17 18:48:56'}"
      ]
     },
     "execution_count": 85,
     "metadata": {},
     "output_type": "execute_result"
    }
   ],
   "source": [
    "output[0]"
   ]
  },
  {
   "cell_type": "code",
   "execution_count": 86,
   "metadata": {},
   "outputs": [
    {
     "data": {
      "text/plain": [
       "{'rank': 454,\n",
       " 'name': 'Перл-Харбор',\n",
       " 'kp_rating': 7.92,\n",
       " 'imdb_rating': 6.2,\n",
       " 'year': 2001,\n",
       " 'url': 'https://www.kinopoisk.ruhttps://www.kinopoisk.ru/film/1957/',\n",
       " '_utc_timestamp': '2019-12-17 18:48:57'}"
      ]
     },
     "execution_count": 86,
     "metadata": {},
     "output_type": "execute_result"
    }
   ],
   "source": [
    "output[-1]"
   ]
  },
  {
   "cell_type": "markdown",
   "metadata": {},
   "source": [
    "### 4)\n",
    "\n",
    "Используйте один из контейнеров из модуля collections, чтобы собрать словарь вида \"год выхода фильма -> количество фильмов из топ-500, вышедших в этот год\". Выведите самый популярный год, а также минимальный и максимальный."
   ]
  },
  {
   "cell_type": "code",
   "execution_count": 87,
   "metadata": {},
   "outputs": [],
   "source": [
    "from collections import Counter\n",
    "\n",
    "year_count = Counter([film['year'] for film in top500])"
   ]
  },
  {
   "cell_type": "code",
   "execution_count": 88,
   "metadata": {},
   "outputs": [
    {
     "name": "stdout",
     "output_type": "stream",
     "text": [
      "самый популярный год: 2004\n"
     ]
    }
   ],
   "source": [
    "print('самый популярный год: {}'.format(year_count.most_common()[0][0]))"
   ]
  },
  {
   "cell_type": "code",
   "execution_count": 89,
   "metadata": {},
   "outputs": [
    {
     "name": "stdout",
     "output_type": "stream",
     "text": [
      "минимальный год: 1921\n"
     ]
    }
   ],
   "source": [
    "print('минимальный год: {}'.format(min(year_count.keys())))"
   ]
  },
  {
   "cell_type": "code",
   "execution_count": 90,
   "metadata": {},
   "outputs": [
    {
     "name": "stdout",
     "output_type": "stream",
     "text": [
      "максимальный год: 2019\n"
     ]
    }
   ],
   "source": [
    "print('максимальный год: {}'.format(max(year_count.keys())))"
   ]
  },
  {
   "cell_type": "markdown",
   "metadata": {},
   "source": [
    "### 4)\n",
    "\n",
    "Напишите функцию, которая записывает ваш список словарей в файл в нужном формате, сортируя его по выбранному полю по возрастанию или убыванию."
   ]
  },
  {
   "cell_type": "code",
   "execution_count": 91,
   "metadata": {},
   "outputs": [],
   "source": [
    "def dump(film_list: List[Dict[str, Any]], \n",
    "         path: str, \n",
    "         filetype: str = 'csv', \n",
    "         order_by: str = 'rank',\n",
    "         ascending: bool = True) -> None:\n",
    "    \n",
    "#     if type(film_list) != list:\n",
    "#         raise TypeError('film_list must be a list') #, not a {}'.format(type(film_list))\n",
    "    \n",
    "#     if type(path) != str:\n",
    "#         raise TypeError('path must be a string')\n",
    "    \n",
    "    fieldnames = ['rank', 'name', 'kp_rating',\n",
    "                  'imdb_rating', 'year', 'url', \n",
    "                  '_utc_timestamp']\n",
    "        \n",
    "    if order_by not in fieldnames:\n",
    "        raise ValueError('results can be ordered by \"{}\"'.format('\", \"'.join(fieldnames)))\n",
    "        \n",
    "    if filetype not in ['csv', 'tsv', 'json', 'jsonl']:\n",
    "        raise ValueError('wrong filetype, supported formats are \"csv\", \"tsv\", \"json\", \"jsonl\"')\n",
    "        \n",
    "#     assert type(ascending) == bool, 'ascending must be a bool (True/False)'\n",
    "    \n",
    "    output_list = sorted(film_list, key=lambda x: x[order_by], reverse = not ascending)\n",
    "    \n",
    "    \n",
    "    with open(path, 'w', encoding='utf-8', newline='') as f:\n",
    "        if filetype == 'json':\n",
    "            import json\n",
    "            f.write(json.dumps(output_list, ensure_ascii=False, indent=1, sort_keys=False))\n",
    "        elif filetype == 'jsonl':\n",
    "            import json\n",
    "            for item in output_list:\n",
    "                f.write(json.dumps(item, ensure_ascii=False, indent=None))\n",
    "                f.write('\\n')\n",
    "        elif filetype == 'csv':\n",
    "            import csv\n",
    "            writer = csv.DictWriter(f, delimiter=';',\n",
    "                    fieldnames = fieldnames)\n",
    "            writer.writeheader()\n",
    "            for item in output_list:\n",
    "                writer.writerow(item)\n",
    "        elif filetype == 'tsv':\n",
    "            import csv\n",
    "            writer = csv.DictWriter(f, delimiter='\\t',\n",
    "                    fieldnames=['rank', 'name', 'kp_rating',\n",
    "                                 'imdb_rating', 'year', 'url', \n",
    "                                 '_utc_timestamp'])\n",
    "            writer.writeheader()\n",
    "            for item in  output_list:\n",
    "                writer.writerow(item)\n",
    "                \n",
    "    print('Dumped at \"{}\"'.format(path))\n",
    "    pass"
   ]
  },
  {
   "cell_type": "code",
   "execution_count": 92,
   "metadata": {},
   "outputs": [
    {
     "name": "stdout",
     "output_type": "stream",
     "text": [
      "Dumped at \"output.tsv\"\n"
     ]
    }
   ],
   "source": [
    "dump(top500, 'output.tsv', filetype='tsv', order_by='rank', ascending=True)"
   ]
  },
  {
   "cell_type": "code",
   "execution_count": 550,
   "metadata": {},
   "outputs": [
    {
     "name": "stdout",
     "output_type": "stream",
     "text": [
      "Dumped at \"output.csv\"\n"
     ]
    }
   ],
   "source": [
    "dump(top500, 'output.csv', filetype='csv', order_by='rank', ascending=False)"
   ]
  },
  {
   "cell_type": "code",
   "execution_count": 551,
   "metadata": {},
   "outputs": [
    {
     "name": "stdout",
     "output_type": "stream",
     "text": [
      "Dumped at \"output.json\"\n"
     ]
    }
   ],
   "source": [
    "dump(top500, 'output.json', filetype='json', order_by='kp_rating', ascending=True)"
   ]
  },
  {
   "cell_type": "code",
   "execution_count": 552,
   "metadata": {},
   "outputs": [
    {
     "name": "stdout",
     "output_type": "stream",
     "text": [
      "Dumped at \"output.jsonl\"\n"
     ]
    }
   ],
   "source": [
    "dump(top500, 'output.jsonl', filetype='jsonl', order_by='imdb_rating', ascending=False)"
   ]
  },
  {
   "cell_type": "code",
   "execution_count": 553,
   "metadata": {},
   "outputs": [
    {
     "ename": "ValueError",
     "evalue": "wrong filetype, supported formats are \"csv\", \"tsv\", \"json\", \"jsonl\"",
     "output_type": "error",
     "traceback": [
      "\u001b[1;31m---------------------------------------------------------------------------\u001b[0m",
      "\u001b[1;31mValueError\u001b[0m                                Traceback (most recent call last)",
      "\u001b[1;32m<ipython-input-553-37740ec69156>\u001b[0m in \u001b[0;36m<module>\u001b[1;34m\u001b[0m\n\u001b[1;32m----> 1\u001b[1;33m \u001b[0mdump\u001b[0m\u001b[1;33m(\u001b[0m\u001b[0mtop500\u001b[0m\u001b[1;33m,\u001b[0m \u001b[1;34m'wrong.file'\u001b[0m\u001b[1;33m,\u001b[0m \u001b[0mfiletype\u001b[0m\u001b[1;33m=\u001b[0m\u001b[1;34m'txt'\u001b[0m\u001b[1;33m,\u001b[0m \u001b[0morder_by\u001b[0m\u001b[1;33m=\u001b[0m\u001b[1;34m'imdb_rating'\u001b[0m\u001b[1;33m,\u001b[0m \u001b[0mascending\u001b[0m\u001b[1;33m=\u001b[0m\u001b[1;32mFalse\u001b[0m\u001b[1;33m)\u001b[0m\u001b[1;33m\u001b[0m\u001b[1;33m\u001b[0m\u001b[0m\n\u001b[0m",
      "\u001b[1;32m<ipython-input-548-1d85d52052df>\u001b[0m in \u001b[0;36mdump\u001b[1;34m(film_list, path, filetype, order_by, ascending)\u001b[0m\n\u001b[0;32m     19\u001b[0m \u001b[1;33m\u001b[0m\u001b[0m\n\u001b[0;32m     20\u001b[0m     \u001b[1;32mif\u001b[0m \u001b[0mfiletype\u001b[0m \u001b[1;32mnot\u001b[0m \u001b[1;32min\u001b[0m \u001b[1;33m[\u001b[0m\u001b[1;34m'csv'\u001b[0m\u001b[1;33m,\u001b[0m \u001b[1;34m'tsv'\u001b[0m\u001b[1;33m,\u001b[0m \u001b[1;34m'json'\u001b[0m\u001b[1;33m,\u001b[0m \u001b[1;34m'jsonl'\u001b[0m\u001b[1;33m]\u001b[0m\u001b[1;33m:\u001b[0m\u001b[1;33m\u001b[0m\u001b[1;33m\u001b[0m\u001b[0m\n\u001b[1;32m---> 21\u001b[1;33m         \u001b[1;32mraise\u001b[0m \u001b[0mValueError\u001b[0m\u001b[1;33m(\u001b[0m\u001b[1;34m'wrong filetype, supported formats are \"csv\", \"tsv\", \"json\", \"jsonl\"'\u001b[0m\u001b[1;33m)\u001b[0m\u001b[1;33m\u001b[0m\u001b[1;33m\u001b[0m\u001b[0m\n\u001b[0m\u001b[0;32m     22\u001b[0m \u001b[1;33m\u001b[0m\u001b[0m\n\u001b[0;32m     23\u001b[0m \u001b[1;31m#     assert type(ascending) == bool, 'ascending must be a bool (True/False)'\u001b[0m\u001b[1;33m\u001b[0m\u001b[1;33m\u001b[0m\u001b[1;33m\u001b[0m\u001b[0m\n",
      "\u001b[1;31mValueError\u001b[0m: wrong filetype, supported formats are \"csv\", \"tsv\", \"json\", \"jsonl\""
     ]
    }
   ],
   "source": [
    "dump(top500, 'wrong.file', filetype='txt', order_by='imdb_rating', ascending=False)"
   ]
  },
  {
   "cell_type": "code",
   "execution_count": 554,
   "metadata": {},
   "outputs": [
    {
     "ename": "ValueError",
     "evalue": "results can be ordered by \"rank\", \"name\", \"kp_rating\", \"imdb_rating\", \"year\", \"url\", \"_utc_timestamp\"",
     "output_type": "error",
     "traceback": [
      "\u001b[1;31m---------------------------------------------------------------------------\u001b[0m",
      "\u001b[1;31mValueError\u001b[0m                                Traceback (most recent call last)",
      "\u001b[1;32m<ipython-input-554-a686fb4fa4f6>\u001b[0m in \u001b[0;36m<module>\u001b[1;34m\u001b[0m\n\u001b[1;32m----> 1\u001b[1;33m \u001b[0mdump\u001b[0m\u001b[1;33m(\u001b[0m\u001b[0mtop500\u001b[0m\u001b[1;33m,\u001b[0m \u001b[1;34m'wrong.jsonl'\u001b[0m\u001b[1;33m,\u001b[0m \u001b[0mfiletype\u001b[0m\u001b[1;33m=\u001b[0m\u001b[1;34m'jsonl'\u001b[0m\u001b[1;33m,\u001b[0m \u001b[0morder_by\u001b[0m\u001b[1;33m=\u001b[0m\u001b[1;36m10\u001b[0m\u001b[1;33m,\u001b[0m \u001b[0mascending\u001b[0m\u001b[1;33m=\u001b[0m\u001b[1;32mFalse\u001b[0m\u001b[1;33m)\u001b[0m\u001b[1;33m\u001b[0m\u001b[1;33m\u001b[0m\u001b[0m\n\u001b[0m",
      "\u001b[1;32m<ipython-input-548-1d85d52052df>\u001b[0m in \u001b[0;36mdump\u001b[1;34m(film_list, path, filetype, order_by, ascending)\u001b[0m\n\u001b[0;32m     16\u001b[0m \u001b[1;33m\u001b[0m\u001b[0m\n\u001b[0;32m     17\u001b[0m     \u001b[1;32mif\u001b[0m \u001b[0morder_by\u001b[0m \u001b[1;32mnot\u001b[0m \u001b[1;32min\u001b[0m \u001b[0mfieldnames\u001b[0m\u001b[1;33m:\u001b[0m\u001b[1;33m\u001b[0m\u001b[1;33m\u001b[0m\u001b[0m\n\u001b[1;32m---> 18\u001b[1;33m         \u001b[1;32mraise\u001b[0m \u001b[0mValueError\u001b[0m\u001b[1;33m(\u001b[0m\u001b[1;34m'results can be ordered by \"{}\"'\u001b[0m\u001b[1;33m.\u001b[0m\u001b[0mformat\u001b[0m\u001b[1;33m(\u001b[0m\u001b[1;34m'\", \"'\u001b[0m\u001b[1;33m.\u001b[0m\u001b[0mjoin\u001b[0m\u001b[1;33m(\u001b[0m\u001b[0mfieldnames\u001b[0m\u001b[1;33m)\u001b[0m\u001b[1;33m)\u001b[0m\u001b[1;33m)\u001b[0m\u001b[1;33m\u001b[0m\u001b[1;33m\u001b[0m\u001b[0m\n\u001b[0m\u001b[0;32m     19\u001b[0m \u001b[1;33m\u001b[0m\u001b[0m\n\u001b[0;32m     20\u001b[0m     \u001b[1;32mif\u001b[0m \u001b[0mfiletype\u001b[0m \u001b[1;32mnot\u001b[0m \u001b[1;32min\u001b[0m \u001b[1;33m[\u001b[0m\u001b[1;34m'csv'\u001b[0m\u001b[1;33m,\u001b[0m \u001b[1;34m'tsv'\u001b[0m\u001b[1;33m,\u001b[0m \u001b[1;34m'json'\u001b[0m\u001b[1;33m,\u001b[0m \u001b[1;34m'jsonl'\u001b[0m\u001b[1;33m]\u001b[0m\u001b[1;33m:\u001b[0m\u001b[1;33m\u001b[0m\u001b[1;33m\u001b[0m\u001b[0m\n",
      "\u001b[1;31mValueError\u001b[0m: results can be ordered by \"rank\", \"name\", \"kp_rating\", \"imdb_rating\", \"year\", \"url\", \"_utc_timestamp\""
     ]
    }
   ],
   "source": [
    "dump(top500, 'wrong.jsonl', filetype='jsonl', order_by=10, ascending=False)"
   ]
  },
  {
   "cell_type": "code",
   "execution_count": null,
   "metadata": {},
   "outputs": [],
   "source": [
    "dump('lol', 'wrong.file', filetype='txt', order_by='id', ascending=1)"
   ]
  },
  {
   "cell_type": "markdown",
   "metadata": {},
   "source": [
    "## Часть 2\n",
    "\n",
    "Напишите функцию, возвращающую строку, представлящую случайный IPv4-адрес"
   ]
  },
  {
   "cell_type": "code",
   "execution_count": 7,
   "metadata": {},
   "outputs": [],
   "source": [
    "import random"
   ]
  },
  {
   "cell_type": "code",
   "execution_count": 8,
   "metadata": {},
   "outputs": [],
   "source": [
    "def make_ip():\n",
    "    return '.'.join([str(random.randint(0, 255)) for i in range(4)])"
   ]
  },
  {
   "cell_type": "code",
   "execution_count": 9,
   "metadata": {},
   "outputs": [
    {
     "data": {
      "text/plain": [
       "'33.32.249.152'"
      ]
     },
     "execution_count": 9,
     "metadata": {},
     "output_type": "execute_result"
    }
   ],
   "source": [
    "make_ip()"
   ]
  },
  {
   "cell_type": "markdown",
   "metadata": {},
   "source": [
    "Сгенерируйте список из 100 разных IPv4-адресов"
   ]
  },
  {
   "cell_type": "code",
   "execution_count": 10,
   "metadata": {},
   "outputs": [],
   "source": [
    "# ips = [make_ip() for i in range(100)]"
   ]
  },
  {
   "cell_type": "code",
   "execution_count": 11,
   "metadata": {},
   "outputs": [],
   "source": [
    "ip100 = []\n",
    "while len(ip100) < 100:\n",
    "    ip = make_ip()\n",
    "    if ip not in ip100:\n",
    "        ip100.append(ip)\n",
    "    else:\n",
    "        print('хотя вероятность повторения была 0.0000000002365044290627876, {} все же сгенерировался дважды'.format(ip))"
   ]
  },
  {
   "cell_type": "code",
   "execution_count": 12,
   "metadata": {},
   "outputs": [
    {
     "data": {
      "text/plain": [
       "100"
      ]
     },
     "execution_count": 12,
     "metadata": {},
     "output_type": "execute_result"
    }
   ],
   "source": [
    "len(ip100)"
   ]
  },
  {
   "cell_type": "code",
   "execution_count": 13,
   "metadata": {},
   "outputs": [
    {
     "name": "stdout",
     "output_type": "stream",
     "text": [
      "['145.46.148.99', '13.73.174.50', '214.215.25.43', '160.185.196.46', '170.11.250.146', '50.216.231.143', '158.229.123.247', '163.149.191.35', '117.25.223.17', '68.199.134.173', '150.42.170.215', '197.232.76.157', '114.63.100.102', '49.175.97.109', '170.20.91.164', '106.225.232.130', '116.199.115.146', '88.54.231.222', '255.228.91.209', '64.130.117.22', '138.243.199.127', '33.177.41.155', '73.181.128.246', '241.177.150.162', '199.67.60.49', '93.133.232.54', '217.15.174.167', '78.187.67.147', '202.208.164.95', '204.200.91.168', '27.103.151.143', '161.244.44.218', '198.129.199.163', '146.55.161.214', '39.160.238.205', '78.233.198.158', '165.96.12.27', '232.94.28.119', '201.48.215.226', '55.196.183.213', '249.113.36.184', '69.4.2.93', '241.248.59.14', '39.76.128.133', '71.243.243.132', '240.247.129.136', '116.137.218.19', '179.228.24.102', '205.41.89.75', '4.22.147.127', '127.101.57.221', '117.156.139.214', '216.226.248.108', '47.210.14.161', '61.58.222.203', '108.2.20.249', '248.90.163.2', '1.92.53.157', '33.176.43.172', '232.66.170.236', '210.226.91.194', '63.72.96.253', '206.39.92.142', '99.31.4.108', '254.135.210.124', '64.167.143.54', '26.205.37.187', '158.177.255.82', '144.29.26.171', '191.84.174.229', '182.198.71.42', '209.104.230.229', '2.206.60.191', '19.44.139.87', '190.166.52.77', '20.128.130.191', '166.108.43.173', '177.113.247.243', '104.43.82.57', '60.57.43.153', '103.12.237.51', '151.161.206.20', '72.55.238.190', '50.217.218.191', '77.111.222.103', '176.62.36.104', '161.99.226.74', '72.125.77.118', '38.194.39.74', '255.12.199.220', '137.255.165.56', '157.110.168.21', '92.175.228.153', '188.196.177.154', '85.235.144.61', '188.139.107.90', '161.44.240.83', '23.93.144.27', '222.222.209.183', '112.204.243.120']\n"
     ]
    }
   ],
   "source": [
    "print(ip100)"
   ]
  },
  {
   "cell_type": "markdown",
   "metadata": {},
   "source": [
    "С помощью https://freegeoip.app/ выгрузите для каждого из этих адресов информацию в формате JSON"
   ]
  },
  {
   "cell_type": "code",
   "execution_count": 14,
   "metadata": {},
   "outputs": [
    {
     "name": "stderr",
     "output_type": "stream",
     "text": [
      "100%|████████████████████████████████████████████████████████████████████████████████| 100/100 [01:31<00:00,  1.14it/s]\n"
     ]
    }
   ],
   "source": [
    "location100 = []\n",
    "\n",
    "for ip in tqdm(ip100):\n",
    "    url = \"https://freegeoip.app/json/{}\".format(ip)\n",
    "    headers = {'accept': \"application/json\", 'content-type': \"application/json\"}\n",
    "    response = requests.request(\"GET\", url, headers=headers)\n",
    "    location100.append(dict(json.loads(response.text)))\n",
    "    time.sleep(random.uniform(0.5, 1)) # why tho?"
   ]
  },
  {
   "cell_type": "code",
   "execution_count": 15,
   "metadata": {},
   "outputs": [
    {
     "data": {
      "text/plain": [
       "{'ip': '145.46.148.99',\n",
       " 'country_code': 'DE',\n",
       " 'country_name': 'Germany',\n",
       " 'region_code': '',\n",
       " 'region_name': '',\n",
       " 'city': '',\n",
       " 'zip_code': '',\n",
       " 'time_zone': 'Europe/Berlin',\n",
       " 'latitude': 51.2993,\n",
       " 'longitude': 9.491,\n",
       " 'metro_code': 0}"
      ]
     },
     "execution_count": 15,
     "metadata": {},
     "output_type": "execute_result"
    }
   ],
   "source": [
    "location100[0]"
   ]
  },
  {
   "cell_type": "code",
   "execution_count": 16,
   "metadata": {},
   "outputs": [
    {
     "data": {
      "text/plain": [
       "{'ip': '112.204.243.120',\n",
       " 'country_code': 'PH',\n",
       " 'country_name': 'Philippines',\n",
       " 'region_code': '00',\n",
       " 'region_name': 'Metro Manila',\n",
       " 'city': 'Pasig',\n",
       " 'zip_code': '1600',\n",
       " 'time_zone': 'Asia/Manila',\n",
       " 'latitude': 14.5696,\n",
       " 'longitude': 121.071,\n",
       " 'metro_code': 0}"
      ]
     },
     "execution_count": 16,
     "metadata": {},
     "output_type": "execute_result"
    }
   ],
   "source": [
    "location100[-1]"
   ]
  },
  {
   "cell_type": "markdown",
   "metadata": {},
   "source": [
    "че по зонам?"
   ]
  },
  {
   "cell_type": "code",
   "execution_count": 19,
   "metadata": {},
   "outputs": [],
   "source": [
    "from collections import Counter"
   ]
  },
  {
   "cell_type": "code",
   "execution_count": 20,
   "metadata": {},
   "outputs": [],
   "source": [
    "timezones = dict(Counter([l['time_zone'] for l in location100]).most_common())"
   ]
  },
  {
   "cell_type": "code",
   "execution_count": 21,
   "metadata": {},
   "outputs": [
    {
     "data": {
      "text/plain": [
       "{'America/Chicago': 35,\n",
       " 'Asia/Shanghai': 11,\n",
       " '': 11,\n",
       " 'Asia/Tokyo': 9,\n",
       " 'America/New_York': 5,\n",
       " 'Europe/Berlin': 3,\n",
       " 'America/Sao_Paulo': 3,\n",
       " 'Asia/Seoul': 2,\n",
       " 'Europe/Rome': 2,\n",
       " 'Europe/Paris': 2,\n",
       " 'Europe/Amsterdam': 1,\n",
       " 'Africa/Nairobi': 1,\n",
       " 'America/Los_Angeles': 1,\n",
       " 'Europe/Vaduz': 1,\n",
       " 'Europe/Istanbul': 1,\n",
       " 'Africa/Libreville': 1,\n",
       " 'Asia/Taipei': 1,\n",
       " 'America/Argentina/Mendoza': 1,\n",
       " 'America/Santo_Domingo': 1,\n",
       " 'Asia/Singapore': 1,\n",
       " 'Asia/Dhaka': 1,\n",
       " 'Europe/London': 1,\n",
       " 'Europe/Zagreb': 1,\n",
       " 'Africa/Porto-Novo': 1,\n",
       " 'Europe/Ljubljana': 1,\n",
       " 'Asia/Riyadh': 1,\n",
       " 'Asia/Manila': 1}"
      ]
     },
     "execution_count": 21,
     "metadata": {},
     "output_type": "execute_result"
    }
   ],
   "source": [
    "timezones"
   ]
  },
  {
   "cell_type": "markdown",
   "metadata": {},
   "source": [
    "Сгенерируйте случайный момент времени в 2019 году (по UTC времени)"
   ]
  },
  {
   "cell_type": "code",
   "execution_count": 22,
   "metadata": {},
   "outputs": [],
   "source": [
    "import datetime\n",
    "import random \n",
    "import pytz"
   ]
  },
  {
   "cell_type": "code",
   "execution_count": 39,
   "metadata": {},
   "outputs": [
    {
     "name": "stdout",
     "output_type": "stream",
     "text": [
      "Случайный момент: 2019-11-29 16:50:47.447070\n",
      "в виде unix timestamp: 1575046247.4470704\n"
     ]
    }
   ],
   "source": [
    "start_date = datetime.datetime(2019, 1, 1, 0, 0, 0).timestamp()\n",
    "end_date = datetime.datetime(2019, 12, 31, 23, 59, 59).timestamp()\n",
    "offset = (end_date - start_date) * random.random()\n",
    "\n",
    "timestamp = start_date + offset\n",
    "moment = datetime.datetime.utcfromtimestamp(timestamp)\n",
    "\n",
    "print('Случайный момент:', moment)\n",
    "print('в виде unix timestamp:', timestamp)"
   ]
  },
  {
   "cell_type": "code",
   "execution_count": 40,
   "metadata": {},
   "outputs": [
    {
     "name": "stdout",
     "output_type": "stream",
     "text": [
      "2019-11-29 14:50:47.447070+01:00 Africa/Libreville\n",
      "2019-11-29 16:50:47.447070+03:00 Africa/Nairobi\n",
      "2019-11-29 14:50:47.447070+01:00 Africa/Porto-Novo\n",
      "2019-11-29 10:50:47.447070-03:00 America/Argentina/Mendoza\n",
      "2019-11-29 07:50:47.447070-06:00 America/Chicago\n",
      "2019-11-29 05:50:47.447070-08:00 America/Los_Angeles\n",
      "2019-11-29 08:50:47.447070-05:00 America/New_York\n",
      "2019-11-29 09:50:47.447070-04:00 America/Santo_Domingo\n",
      "2019-11-29 11:50:47.447070-02:00 America/Sao_Paulo\n",
      "2019-11-29 19:50:47.447070+06:00 Asia/Dhaka\n",
      "2019-11-29 21:50:47.447070+08:00 Asia/Manila\n",
      "2019-11-29 16:50:47.447070+03:00 Asia/Riyadh\n",
      "2019-11-29 22:50:47.447070+09:00 Asia/Seoul\n",
      "2019-11-29 21:50:47.447070+08:00 Asia/Shanghai\n",
      "2019-11-29 21:50:47.447070+08:00 Asia/Singapore\n",
      "2019-11-29 21:50:47.447070+08:00 Asia/Taipei\n",
      "2019-11-29 22:50:47.447070+09:00 Asia/Tokyo\n",
      "2019-11-29 14:50:47.447070+01:00 Europe/Amsterdam\n",
      "2019-11-29 14:50:47.447070+01:00 Europe/Berlin\n",
      "2019-11-29 16:50:47.447070+03:00 Europe/Istanbul\n",
      "2019-11-29 14:50:47.447070+01:00 Europe/Ljubljana\n",
      "2019-11-29 13:50:47.447070+00:00 Europe/London\n",
      "2019-11-29 14:50:47.447070+01:00 Europe/Paris\n",
      "2019-11-29 14:50:47.447070+01:00 Europe/Rome\n",
      "2019-11-29 14:50:47.447070+01:00 Europe/Vaduz\n",
      "2019-11-29 14:50:47.447070+01:00 Europe/Zagreb\n"
     ]
    }
   ],
   "source": [
    "for timezone in sorted(timezones.keys()):\n",
    "    if timezone != '':\n",
    "        print(moment.astimezone(pytz.timezone(timezone)), timezone)"
   ]
  },
  {
   "cell_type": "code",
   "execution_count": null,
   "metadata": {},
   "outputs": [],
   "source": []
  }
 ],
 "metadata": {
  "kernelspec": {
   "display_name": "Python 3",
   "language": "python",
   "name": "python3"
  },
  "language_info": {
   "codemirror_mode": {
    "name": "ipython",
    "version": 3
   },
   "file_extension": ".py",
   "mimetype": "text/x-python",
   "name": "python",
   "nbconvert_exporter": "python",
   "pygments_lexer": "ipython3",
   "version": "3.7.3"
  }
 },
 "nbformat": 4,
 "nbformat_minor": 2
}
