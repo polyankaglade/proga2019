{
 "cells": [
  {
   "cell_type": "markdown",
   "metadata": {},
   "source": [
    "|Балл|Сделано|Задание|\n",
    "|--|--|--|\n",
    "|-|да|создайте репозиторий на github.com и сделайте его приватным|\n",
    "|-|да|подключитесь к https://education.github.com/pack с помощью edu.hse.ru почты,|\n",
    "|-|да|добавьте в collaborators вашего репозитория (https://clck.ru/KMP9Z) четырёх человек: esolovev, eszakharova, akseryanin, ldsad7|\n",
    "|-|да|используйте type annotations|\n",
    "|-|да|используйте проверку на корректность переданных параметров функции|\n",
    "|-|да|нельзя использовать pandas и numpy|\n",
    "|3|да|Напишите функцию без параметров, возвращающую генератор, который последовательно возвращает информацию о фильмах из Топ-500 КиноПоиска в виде словаря|\n",
    "|1|да|Добавьте в функцию параметры, ограничивающие количество фильмов и изменяющие время перерыва между запросами|\n",
    "|0.5|да|Выгрузите весь Топ-500 и превратите его в список словарей. Отсортируйте этот список по убыванию рейтинга IMDb|\n",
    "|0.5|да|Используйте один из контейнеров из модуля collections, чтобы собрать словарь вида \"год выхода фильма -> количество фильмов из топ-500, вышедших в этот год\". Выведите самый популярный год, а также минимальный и максимальный.|\n",
    "|1.5|да|Напишите функцию, которая записывает ваш список словарей в файл в нужном формате, сортируя его по выбранному полю по возрастанию или убыванию.|\n",
    "|0.5|да|Напишите функцию, возвращающую строку, представлящую случайный IPv4-адрес|\n",
    "|0.5|да|Сгенерируйте список из 100 разных IPv4-адресов|\n",
    "|1|да|С помощью https://freegeoip.app/ выгрузите для каждого из этих адресов информацию в формате JSON|\n",
    "|1.5|да|Сгенерируйте случайный момент времени в 2019 году. Выведите его в виде unix timestamp. Приведите его ко всем встретившимся часовым поясам|\n",
    "|**10**|**ВСЕГО БАЛЛОВ**|должно быть|"
   ]
  },
  {
   "cell_type": "code",
   "execution_count": 98,
   "metadata": {},
   "outputs": [
    {
     "data": {
      "text/plain": [
       "10.0"
      ]
     },
     "execution_count": 98,
     "metadata": {},
     "output_type": "execute_result"
    }
   ],
   "source": [
    "1.5 + 1 + 0.5 + 0.5 + 1.5 + 0.5 + 0.5 + 3 + 1"
   ]
  },
  {
   "cell_type": "code",
   "execution_count": 39,
   "metadata": {},
   "outputs": [],
   "source": [
    "from tqdm import tqdm"
   ]
  },
  {
   "cell_type": "code",
   "execution_count": 150,
   "metadata": {},
   "outputs": [],
   "source": [
    "import time\n",
    "import re\n",
    "from bs4 import BeautifulSoup\n",
    "import urllib\n",
    "from typing import List, Dict, Union, Any, Generator\n",
    "import requests\n",
    "import json"
   ]
  },
  {
   "cell_type": "markdown",
   "metadata": {},
   "source": [
    "## Часть 1\n",
    "\n",
    "### 1)\n",
    "\n",
    "~~Напишите функцию без параметров, возвращающую iterable-объект, который последовательно возвращает информацию о фильмах из Топ-500 КиноПоиска в виде словаря. ~~\n",
    "\n",
    "\n",
    "Напишите функцию без параметров, возвращающую генератор, который последовательно возвращает информацию о фильмах из Топ-500 КиноПоиска в виде словаря."
   ]
  },
  {
   "cell_type": "code",
   "execution_count": 151,
   "metadata": {},
   "outputs": [],
   "source": [
    "def task_1() -> Generator[Dict[str, Any], None, str]:\n",
    "    link = 'https://www.kinopoisk.ru/top/lists/1/filtr/all/sort/order/perpage/200/page/{}'\n",
    "\n",
    "    for i in range(1,4):\n",
    "        try:\n",
    "            f = urllib.request.urlopen(urllib.request.Request(link.format(i), headers=headers))\n",
    "        except urllib.error.HTTPError:\n",
    "            print('An Error occured')\n",
    "        else:\n",
    "            page = f.read().decode('utf-8')\n",
    "            films_raw = re.findall('<tr .*? class=\" js-film-list-item\">(.*?)</tr>', page, flags=re.DOTALL)\n",
    "            \n",
    "            if len(films_raw) == 0:\n",
    "                raise TimeoutError('вас заблочили')\n",
    "\n",
    "            for film_raw in films_raw:            \n",
    "                name = re.search('data-title=\"(.*?)\"', film_raw).group(1).replace('&nbsp;', ' ')\n",
    "                rank = re.search('class=\"num rangImp\">(.*?)<', film_raw).group(1)\n",
    "                kp = re.search('data-film-rating=\"(.*?)\"', film_raw).group(1)\n",
    "                imdb = re.search('IMDb: (.*?)<', film_raw).group(1)\n",
    "                year = re.search('block\">.*?\\((.*?)\\) <nobr', film_raw).group(1)\n",
    "                url = re.search('<a style=\"font-size: 13px; font-weight: bold\" href=\"(.*?)\"',\n",
    "                                film_raw, flags=re.DOTALL).group(1)\n",
    "\n",
    "                timestamp = time.strftime(\"%Y-%m-%d %H:%M:%S\", time.gmtime())\n",
    "\n",
    "                film = {\n",
    "                    'rank': int(rank),\n",
    "                    'name': name,\n",
    "                    'kp_rating': float(kp),\n",
    "                    'imdb_rating': float(imdb),\n",
    "                    'year': int(year),\n",
    "                    'url': 'https://www.kinopoisk.ru' + url,\n",
    "                    '_utc_timestamp': timestamp\n",
    "                }\n",
    "\n",
    "                \n",
    "                yield film\n",
    "\n",
    "        time.sleep(0.5)\n",
    "    return 'TOP-500 готов!'"
   ]
  },
  {
   "cell_type": "code",
   "execution_count": 152,
   "metadata": {},
   "outputs": [],
   "source": [
    "top_films = task_1()"
   ]
  },
  {
   "cell_type": "code",
   "execution_count": 153,
   "metadata": {},
   "outputs": [
    {
     "data": {
      "text/plain": [
       "{'rank': 1,\n",
       " 'name': 'Побег из Шоушенка',\n",
       " 'kp_rating': 9.112,\n",
       " 'imdb_rating': 9.3,\n",
       " 'year': 1994,\n",
       " 'url': 'https://www.kinopoisk.ru/film/326/',\n",
       " '_utc_timestamp': '2019-12-21 16:55:53'}"
      ]
     },
     "execution_count": 153,
     "metadata": {},
     "output_type": "execute_result"
    }
   ],
   "source": [
    "next(top_films)"
   ]
  },
  {
   "cell_type": "code",
   "execution_count": 81,
   "metadata": {},
   "outputs": [
    {
     "name": "stdout",
     "output_type": "stream",
     "text": [
      "1994 1999 1994 1993 2011 2010 1994 1994 1999 1973 1997 1997 1972 1994 1965 2006 2001 2014 2000 2003 1985 1998 1999 1968 2006 2002 2002 1973 2001 2008 2000 2017 2002 1998 1971 2003 2009 1975 2008 1997 1956 1992 1959 1990 2008 1931 2001 1972 1947 1966 1966 2004 1981 1995 1990 1998 2010 1991 2012 1974 1988 2005 1997 1995 1980 1979 2008 2013 2011 1988 2016 2000 1999 1957 1971 1921 1998 2006 1976 2003 1959 1989 1991 2004 1980 1983 1953 1995 1939 1977 2012 2019 2006 2005 1984 1997 2004 1980 1975 2004 2013 2018 1997 1959 2012 2004 1957 1962 1979 2008 1989 2001 1997 1995 1990 1993 2011 1980 1964 1992 1988 2009 1936 2002 1966 1984 2019 1998 2010 2008 1980 1973 1990 1990 1971 2004 2002 2005 1983 2004 1997 1990 1990 2006 1983 1965 2002 2010 2015 1976 1968 2008 1968 2001 2009 2001 1954 1954 1961 1991 2000 2004 2001 1980 1982 2011 2017 1979 1979 1964 1966 2005 2005 2005 2016 1980 2006 1999 1988 2014 1989 2000 1995 1999 1997 1983 2008 1960 1981 2007 1988 2012 2001 2005 2003 1975 1966 1928 2004 2001 2000 1984 2010 2013 2007 2008 2005 2001 2014 2001 2008 2006 2011 2014 1999 2007 2009 1988 1988 1962 1925 2019 2004 1987 2003 2009 1998 1980 2010 2000 2009 1975 1998 1952 2012 2013 1976 1989 1997 2000 2003 1979 1981 2010 1955 1987 2007 1981 1985 1962 1997 2006 1987 1981 1955 2003 1954 1999 1997 2004 2007 1988 2014 1966 1986 1957 1976 1978 1988 1993 1971 2000 2016 1986 2007 1975 1984 1986 1957 2007 1984 1993 2007 1968 1940 1959 1962 1982 1956 1977 2001 1960 1993 1942 1982 1968 1986 1987 2016 1979 1979 1987 2005 1963 1987 1998 1995 1973 1957 1998 1992 1950 1964 1971 2001 2008 1978 2012 2019 1971 1994 1980 1999 1997 2003 1979 2004 1981 1939 1981 1957 1973 2006 1994 1968 1966 1973 1927 1987 2009 2004 1961 1977 1984 1952 1988 1998 1968 1973 1959 2004 1950 1964 1966 1964 2007 1981 2007 2000 1963 1954 1952 2009 2014 2002 2005 1999 2002 1956 1981 2005 1995 2018 1985 2006 1978 2012 1995 1996 2009 1993 2007 1942 1950 1960 1999 1994 1981 1990 2001 1990 2005 2010 2000 1944 1988 1964 1969 1969 2003 1994 2006 2018 1995 2000 1973 1993 1957 1987 1966 2009 1968 1995 1931 2014 2004 1987 1978 1960 2009 1998 1940 2012 2002 1963 2006 1991 1971 1940 1965 2005 2000 1999 1970 2014 2003 2003 1979 2013 1968 1952 2011 2011 2003 1974 1987 2002 2012 1960 2018 1995 1957 1984 2001 1993 1970 1973 2005 1963 2004 1965 1975 2004 1995 1988 1972 2005 2018 1961 2015 1982 1970 2010 1999 1987 1949 1964 1953 1992 1951 2003 2004 1962 1983 2015 1989 2007 1965 2002 2001 1999 1986 2001 2008 1970 2018 1961 1970 1947 1925 "
     ]
    }
   ],
   "source": [
    "for film in task_1():\n",
    "    print(film['year'], end=' ')"
   ]
  },
  {
   "cell_type": "markdown",
   "metadata": {},
   "source": [
    "### 2)\n",
    "\n",
    "Добавьте в функцию параметры, ограничивающие количество фильмов (чтобы вместо всего Топа-500 можно было скачать, например, 17 первых фильмов) и изменяющие время перерыва между запросами (чтобы вместо 0.5 с можно было задавать произвольное время в секундах). Добавьте проверку на корректность переданных параметров функции - если передано некорректное значение аргумента, нужно выбрасывать подходящее исключение."
   ]
  },
  {
   "cell_type": "code",
   "execution_count": 166,
   "metadata": {},
   "outputs": [],
   "source": [
    "def task_2(count: int = 500,\n",
    "           sleep_time: float = 0.5) -> Generator[Dict[str, Any], None, str]:\n",
    "    \n",
    "    if type(count) != int:\n",
    "        raise TypeError('count must be of type (int)')\n",
    "        \n",
    "    if type(sleep_time) == int:\n",
    "        sleep_time = float(sleep_time)\n",
    "    assert type(sleep_time) == float, 'sleep_time must be of type (float)'\n",
    "    assert sleep_time >= 0, 'sleep_time must be non-negative'\n",
    "    \n",
    "    link = 'https://www.kinopoisk.ru/top/lists/1/filtr/all/sort/order/perpage/200/page/{}'\n",
    "    \n",
    "    complete = False\n",
    "    n = 0\n",
    "    for i in range(1,4):\n",
    "        try:\n",
    "            f = urllib.request.urlopen(urllib.request.Request(link.format(i), headers=headers))\n",
    "        except urllib.error.HTTPError:\n",
    "            print('An Error occured')\n",
    "        else:\n",
    "            page = f.read().decode('utf-8')\n",
    "            films_raw = re.findall('<tr .*? class=\" js-film-list-item\">(.*?)</tr>', page, flags=re.DOTALL)\n",
    "\n",
    "            for film_raw in films_raw:            \n",
    "                name = re.search('data-title=\"(.*?)\"', film_raw).group(1).replace('&nbsp;', ' ')\n",
    "                rank = re.search('class=\"num rangImp\">(.*?)<', film_raw).group(1)\n",
    "                kp = re.search('data-film-rating=\"(.*?)\"', film_raw).group(1)\n",
    "                imdb = re.search('IMDb: (.*?)<', film_raw).group(1)\n",
    "                year = re.search('block\">.*?\\((.*?)\\) <nobr', film_raw).group(1)\n",
    "                url = re.search('<a style=\"font-size: 13px; font-weight: bold\" href=\"(.*?)\"',\n",
    "                                film_raw, flags=re.DOTALL).group(1)\n",
    "\n",
    "                timestamp = time.strftime(\"%Y-%m-%d %H:%M:%S\", time.gmtime())\n",
    "\n",
    "                film = {\n",
    "                    'rank': int(rank),\n",
    "                    'name': name,\n",
    "                    'kp_rating': float(kp),\n",
    "                    'imdb_rating': float(imdb),\n",
    "                    'year': int(year),\n",
    "                    'url': 'https://www.kinopoisk.ru' + url,\n",
    "                    '_utc_timestamp': timestamp\n",
    "                }\n",
    "                \n",
    "                yield film\n",
    "                n += 1\n",
    "                if n >= count:\n",
    "                    complete = True\n",
    "                    break\n",
    "\n",
    "        if complete:\n",
    "            break\n",
    "\n",
    "        time.sleep(sleep_time)\n",
    "    return 'ТОП-{} готов!'.format(count)"
   ]
  },
  {
   "cell_type": "code",
   "execution_count": 175,
   "metadata": {},
   "outputs": [],
   "source": [
    "top17 = task_2(count = 17, sleep_time = 1)"
   ]
  },
  {
   "cell_type": "code",
   "execution_count": 168,
   "metadata": {},
   "outputs": [
    {
     "data": {
      "text/plain": [
       "generator"
      ]
     },
     "execution_count": 168,
     "metadata": {},
     "output_type": "execute_result"
    }
   ],
   "source": [
    "type(top17)"
   ]
  },
  {
   "cell_type": "code",
   "execution_count": 169,
   "metadata": {},
   "outputs": [
    {
     "data": {
      "text/plain": [
       "{'rank': 1,\n",
       " 'name': 'Побег из Шоушенка',\n",
       " 'kp_rating': 9.112,\n",
       " 'imdb_rating': 9.3,\n",
       " 'year': 1994,\n",
       " 'url': 'https://www.kinopoisk.ru/film/326/',\n",
       " '_utc_timestamp': '2019-12-21 16:59:17'}"
      ]
     },
     "execution_count": 169,
     "metadata": {},
     "output_type": "execute_result"
    }
   ],
   "source": [
    "next(top17)"
   ]
  },
  {
   "cell_type": "code",
   "execution_count": 173,
   "metadata": {},
   "outputs": [
    {
     "ename": "StopIteration",
     "evalue": "ТОП-17 готов!",
     "output_type": "error",
     "traceback": [
      "\u001b[1;31m---------------------------------------------------------------------------\u001b[0m",
      "\u001b[1;31mStopIteration\u001b[0m                             Traceback (most recent call last)",
      "\u001b[1;32m<ipython-input-173-eeff3343f0e5>\u001b[0m in \u001b[0;36m<module>\u001b[1;34m\u001b[0m\n\u001b[1;32m----> 1\u001b[1;33m \u001b[0mnext\u001b[0m\u001b[1;33m(\u001b[0m\u001b[0mtop17\u001b[0m\u001b[1;33m)\u001b[0m\u001b[1;33m\u001b[0m\u001b[1;33m\u001b[0m\u001b[0m\n\u001b[0m",
      "\u001b[1;31mStopIteration\u001b[0m: ТОП-17 готов!"
     ]
    }
   ],
   "source": [
    "next(top17)"
   ]
  },
  {
   "cell_type": "code",
   "execution_count": 61,
   "metadata": {},
   "outputs": [
    {
     "ename": "TypeError",
     "evalue": "count must be of type (int)",
     "output_type": "error",
     "traceback": [
      "\u001b[1;31m---------------------------------------------------------------------------\u001b[0m",
      "\u001b[1;31mTypeError\u001b[0m                                 Traceback (most recent call last)",
      "\u001b[1;32m<ipython-input-61-16af8b2fa05b>\u001b[0m in \u001b[0;36m<module>\u001b[1;34m\u001b[0m\n\u001b[0;32m      1\u001b[0m \u001b[0mwrong_count\u001b[0m \u001b[1;33m=\u001b[0m \u001b[0mtask_2\u001b[0m\u001b[1;33m(\u001b[0m\u001b[0mcount\u001b[0m \u001b[1;33m=\u001b[0m \u001b[1;34m'lol'\u001b[0m\u001b[1;33m,\u001b[0m \u001b[0msleep_time\u001b[0m \u001b[1;33m=\u001b[0m \u001b[1;36m1\u001b[0m\u001b[1;33m)\u001b[0m\u001b[1;33m\u001b[0m\u001b[1;33m\u001b[0m\u001b[0m\n\u001b[0;32m      2\u001b[0m \u001b[1;33m\u001b[0m\u001b[0m\n\u001b[1;32m----> 3\u001b[1;33m \u001b[0mprint\u001b[0m\u001b[1;33m(\u001b[0m\u001b[0mnext\u001b[0m\u001b[1;33m(\u001b[0m\u001b[0mwrong_count\u001b[0m\u001b[1;33m)\u001b[0m\u001b[1;33m)\u001b[0m\u001b[1;33m\u001b[0m\u001b[1;33m\u001b[0m\u001b[0m\n\u001b[0m",
      "\u001b[1;32m<ipython-input-55-a6c91a3473a3>\u001b[0m in \u001b[0;36mtask_2\u001b[1;34m(count, sleep_time)\u001b[0m\n\u001b[0;32m      3\u001b[0m \u001b[1;33m\u001b[0m\u001b[0m\n\u001b[0;32m      4\u001b[0m     \u001b[1;32mif\u001b[0m \u001b[0mtype\u001b[0m\u001b[1;33m(\u001b[0m\u001b[0mcount\u001b[0m\u001b[1;33m)\u001b[0m \u001b[1;33m!=\u001b[0m \u001b[0mint\u001b[0m\u001b[1;33m:\u001b[0m\u001b[1;33m\u001b[0m\u001b[1;33m\u001b[0m\u001b[0m\n\u001b[1;32m----> 5\u001b[1;33m         \u001b[1;32mraise\u001b[0m \u001b[0mTypeError\u001b[0m\u001b[1;33m(\u001b[0m\u001b[1;34m'count must be of type (int)'\u001b[0m\u001b[1;33m)\u001b[0m\u001b[1;33m\u001b[0m\u001b[1;33m\u001b[0m\u001b[0m\n\u001b[0m\u001b[0;32m      6\u001b[0m \u001b[1;33m\u001b[0m\u001b[0m\n\u001b[0;32m      7\u001b[0m     \u001b[1;32mif\u001b[0m \u001b[0mtype\u001b[0m\u001b[1;33m(\u001b[0m\u001b[0msleep_time\u001b[0m\u001b[1;33m)\u001b[0m \u001b[1;33m==\u001b[0m \u001b[0mint\u001b[0m\u001b[1;33m:\u001b[0m\u001b[1;33m\u001b[0m\u001b[1;33m\u001b[0m\u001b[0m\n",
      "\u001b[1;31mTypeError\u001b[0m: count must be of type (int)"
     ]
    }
   ],
   "source": [
    "wrong_count = task_2(count = 'lol', sleep_time = 1)\n",
    "\n",
    "print(next(wrong_count))"
   ]
  },
  {
   "cell_type": "code",
   "execution_count": 63,
   "metadata": {},
   "outputs": [
    {
     "ename": "AssertionError",
     "evalue": "sleep_time must be of type (float)",
     "output_type": "error",
     "traceback": [
      "\u001b[1;31m---------------------------------------------------------------------------\u001b[0m",
      "\u001b[1;31mAssertionError\u001b[0m                            Traceback (most recent call last)",
      "\u001b[1;32m<ipython-input-63-ca4a0a157b5d>\u001b[0m in \u001b[0;36m<module>\u001b[1;34m\u001b[0m\n\u001b[0;32m      1\u001b[0m \u001b[0mwrong_count\u001b[0m \u001b[1;33m=\u001b[0m \u001b[0mtask_2\u001b[0m\u001b[1;33m(\u001b[0m\u001b[0mcount\u001b[0m \u001b[1;33m=\u001b[0m \u001b[1;36m17\u001b[0m\u001b[1;33m,\u001b[0m \u001b[0msleep_time\u001b[0m \u001b[1;33m=\u001b[0m \u001b[1;34m'lol'\u001b[0m\u001b[1;33m)\u001b[0m\u001b[1;33m\u001b[0m\u001b[1;33m\u001b[0m\u001b[0m\n\u001b[0;32m      2\u001b[0m \u001b[1;33m\u001b[0m\u001b[0m\n\u001b[1;32m----> 3\u001b[1;33m \u001b[0mprint\u001b[0m\u001b[1;33m(\u001b[0m\u001b[0mnext\u001b[0m\u001b[1;33m(\u001b[0m\u001b[0mwrong_count\u001b[0m\u001b[1;33m)\u001b[0m\u001b[1;33m)\u001b[0m\u001b[1;33m\u001b[0m\u001b[1;33m\u001b[0m\u001b[0m\n\u001b[0m",
      "\u001b[1;32m<ipython-input-55-a6c91a3473a3>\u001b[0m in \u001b[0;36mtask_2\u001b[1;34m(count, sleep_time)\u001b[0m\n\u001b[0;32m      7\u001b[0m     \u001b[1;32mif\u001b[0m \u001b[0mtype\u001b[0m\u001b[1;33m(\u001b[0m\u001b[0msleep_time\u001b[0m\u001b[1;33m)\u001b[0m \u001b[1;33m==\u001b[0m \u001b[0mint\u001b[0m\u001b[1;33m:\u001b[0m\u001b[1;33m\u001b[0m\u001b[1;33m\u001b[0m\u001b[0m\n\u001b[0;32m      8\u001b[0m         \u001b[0msleep_time\u001b[0m \u001b[1;33m=\u001b[0m \u001b[0mfloat\u001b[0m\u001b[1;33m(\u001b[0m\u001b[0msleep_time\u001b[0m\u001b[1;33m)\u001b[0m\u001b[1;33m\u001b[0m\u001b[1;33m\u001b[0m\u001b[0m\n\u001b[1;32m----> 9\u001b[1;33m     \u001b[1;32massert\u001b[0m \u001b[0mtype\u001b[0m\u001b[1;33m(\u001b[0m\u001b[0msleep_time\u001b[0m\u001b[1;33m)\u001b[0m \u001b[1;33m==\u001b[0m \u001b[0mfloat\u001b[0m\u001b[1;33m,\u001b[0m \u001b[1;34m'sleep_time must be of type (float)'\u001b[0m\u001b[1;33m\u001b[0m\u001b[1;33m\u001b[0m\u001b[0m\n\u001b[0m\u001b[0;32m     10\u001b[0m     \u001b[1;32massert\u001b[0m \u001b[0msleep_time\u001b[0m \u001b[1;33m>=\u001b[0m \u001b[1;36m0\u001b[0m\u001b[1;33m,\u001b[0m \u001b[1;34m'sleep_time must be non-negative'\u001b[0m\u001b[1;33m\u001b[0m\u001b[1;33m\u001b[0m\u001b[0m\n\u001b[0;32m     11\u001b[0m \u001b[1;33m\u001b[0m\u001b[0m\n",
      "\u001b[1;31mAssertionError\u001b[0m: sleep_time must be of type (float)"
     ]
    }
   ],
   "source": [
    "wrong_count = task_2(count = 17, sleep_time = 'lol')\n",
    "\n",
    "print(next(wrong_count))"
   ]
  },
  {
   "cell_type": "code",
   "execution_count": 64,
   "metadata": {},
   "outputs": [
    {
     "ename": "AssertionError",
     "evalue": "sleep_time must be non-negative",
     "output_type": "error",
     "traceback": [
      "\u001b[1;31m---------------------------------------------------------------------------\u001b[0m",
      "\u001b[1;31mAssertionError\u001b[0m                            Traceback (most recent call last)",
      "\u001b[1;32m<ipython-input-64-6cdee4ce46db>\u001b[0m in \u001b[0;36m<module>\u001b[1;34m\u001b[0m\n\u001b[0;32m      1\u001b[0m \u001b[0mwrong_count\u001b[0m \u001b[1;33m=\u001b[0m \u001b[0mtask_2\u001b[0m\u001b[1;33m(\u001b[0m\u001b[0mcount\u001b[0m \u001b[1;33m=\u001b[0m \u001b[1;36m17\u001b[0m\u001b[1;33m,\u001b[0m \u001b[0msleep_time\u001b[0m \u001b[1;33m=\u001b[0m \u001b[1;33m-\u001b[0m\u001b[1;36m1\u001b[0m\u001b[1;33m)\u001b[0m\u001b[1;33m\u001b[0m\u001b[1;33m\u001b[0m\u001b[0m\n\u001b[0;32m      2\u001b[0m \u001b[1;33m\u001b[0m\u001b[0m\n\u001b[1;32m----> 3\u001b[1;33m \u001b[0mprint\u001b[0m\u001b[1;33m(\u001b[0m\u001b[0mnext\u001b[0m\u001b[1;33m(\u001b[0m\u001b[0mwrong_count\u001b[0m\u001b[1;33m)\u001b[0m\u001b[1;33m)\u001b[0m\u001b[1;33m\u001b[0m\u001b[1;33m\u001b[0m\u001b[0m\n\u001b[0m",
      "\u001b[1;32m<ipython-input-55-a6c91a3473a3>\u001b[0m in \u001b[0;36mtask_2\u001b[1;34m(count, sleep_time)\u001b[0m\n\u001b[0;32m      8\u001b[0m         \u001b[0msleep_time\u001b[0m \u001b[1;33m=\u001b[0m \u001b[0mfloat\u001b[0m\u001b[1;33m(\u001b[0m\u001b[0msleep_time\u001b[0m\u001b[1;33m)\u001b[0m\u001b[1;33m\u001b[0m\u001b[1;33m\u001b[0m\u001b[0m\n\u001b[0;32m      9\u001b[0m     \u001b[1;32massert\u001b[0m \u001b[0mtype\u001b[0m\u001b[1;33m(\u001b[0m\u001b[0msleep_time\u001b[0m\u001b[1;33m)\u001b[0m \u001b[1;33m==\u001b[0m \u001b[0mfloat\u001b[0m\u001b[1;33m,\u001b[0m \u001b[1;34m'sleep_time must be of type (float)'\u001b[0m\u001b[1;33m\u001b[0m\u001b[1;33m\u001b[0m\u001b[0m\n\u001b[1;32m---> 10\u001b[1;33m     \u001b[1;32massert\u001b[0m \u001b[0msleep_time\u001b[0m \u001b[1;33m>=\u001b[0m \u001b[1;36m0\u001b[0m\u001b[1;33m,\u001b[0m \u001b[1;34m'sleep_time must be non-negative'\u001b[0m\u001b[1;33m\u001b[0m\u001b[1;33m\u001b[0m\u001b[0m\n\u001b[0m\u001b[0;32m     11\u001b[0m \u001b[1;33m\u001b[0m\u001b[0m\n\u001b[0;32m     12\u001b[0m     \u001b[0mlink\u001b[0m \u001b[1;33m=\u001b[0m \u001b[1;34m'https://www.kinopoisk.ru/top/lists/1/filtr/all/sort/order/perpage/200/page/{}'\u001b[0m\u001b[1;33m\u001b[0m\u001b[1;33m\u001b[0m\u001b[0m\n",
      "\u001b[1;31mAssertionError\u001b[0m: sleep_time must be non-negative"
     ]
    }
   ],
   "source": [
    "wrong_count = task_2(count = 17, sleep_time = -1)\n",
    "\n",
    "print(next(wrong_count))"
   ]
  },
  {
   "cell_type": "markdown",
   "metadata": {},
   "source": [
    "### 3)\n",
    "\n",
    "Выгрузите весь Топ-500 и превратите его в список словарей. Отсортируйте этот список по убыванию рейтинга IMDb"
   ]
  },
  {
   "cell_type": "code",
   "execution_count": 82,
   "metadata": {},
   "outputs": [],
   "source": [
    "top500 = [film for film in task_1()]"
   ]
  },
  {
   "cell_type": "code",
   "execution_count": 83,
   "metadata": {},
   "outputs": [
    {
     "data": {
      "text/plain": [
       "500"
      ]
     },
     "execution_count": 83,
     "metadata": {},
     "output_type": "execute_result"
    }
   ],
   "source": [
    "len(top500)"
   ]
  },
  {
   "cell_type": "code",
   "execution_count": 84,
   "metadata": {},
   "outputs": [],
   "source": [
    "output = sorted(top500, key=lambda x: x['imdb_rating'], reverse=True)"
   ]
  },
  {
   "cell_type": "code",
   "execution_count": 85,
   "metadata": {},
   "outputs": [
    {
     "data": {
      "text/plain": [
       "{'rank': 1,\n",
       " 'name': 'Побег из Шоушенка',\n",
       " 'kp_rating': 9.112,\n",
       " 'imdb_rating': 9.3,\n",
       " 'year': 1994,\n",
       " 'url': 'https://www.kinopoisk.ruhttps://www.kinopoisk.ru/film/326/',\n",
       " '_utc_timestamp': '2019-12-17 18:48:56'}"
      ]
     },
     "execution_count": 85,
     "metadata": {},
     "output_type": "execute_result"
    }
   ],
   "source": [
    "output[0]"
   ]
  },
  {
   "cell_type": "code",
   "execution_count": 86,
   "metadata": {},
   "outputs": [
    {
     "data": {
      "text/plain": [
       "{'rank': 454,\n",
       " 'name': 'Перл-Харбор',\n",
       " 'kp_rating': 7.92,\n",
       " 'imdb_rating': 6.2,\n",
       " 'year': 2001,\n",
       " 'url': 'https://www.kinopoisk.ruhttps://www.kinopoisk.ru/film/1957/',\n",
       " '_utc_timestamp': '2019-12-17 18:48:57'}"
      ]
     },
     "execution_count": 86,
     "metadata": {},
     "output_type": "execute_result"
    }
   ],
   "source": [
    "output[-1]"
   ]
  },
  {
   "cell_type": "markdown",
   "metadata": {},
   "source": [
    "### 4)\n",
    "\n",
    "Используйте один из контейнеров из модуля collections, чтобы собрать словарь вида \"год выхода фильма -> количество фильмов из топ-500, вышедших в этот год\". Выведите самый популярный год, а также минимальный и максимальный."
   ]
  },
  {
   "cell_type": "code",
   "execution_count": 87,
   "metadata": {},
   "outputs": [],
   "source": [
    "from collections import Counter\n",
    "\n",
    "year_count = Counter([film['year'] for film in top500])"
   ]
  },
  {
   "cell_type": "code",
   "execution_count": 88,
   "metadata": {},
   "outputs": [
    {
     "name": "stdout",
     "output_type": "stream",
     "text": [
      "самый популярный год: 2004\n"
     ]
    }
   ],
   "source": [
    "print('самый популярный год: {}'.format(year_count.most_common()[0][0]))"
   ]
  },
  {
   "cell_type": "code",
   "execution_count": 89,
   "metadata": {},
   "outputs": [
    {
     "name": "stdout",
     "output_type": "stream",
     "text": [
      "минимальный год: 1921\n"
     ]
    }
   ],
   "source": [
    "print('минимальный год: {}'.format(min(year_count.keys())))"
   ]
  },
  {
   "cell_type": "code",
   "execution_count": 90,
   "metadata": {},
   "outputs": [
    {
     "name": "stdout",
     "output_type": "stream",
     "text": [
      "максимальный год: 2019\n"
     ]
    }
   ],
   "source": [
    "print('максимальный год: {}'.format(max(year_count.keys())))"
   ]
  },
  {
   "cell_type": "markdown",
   "metadata": {},
   "source": [
    "### 4)\n",
    "\n",
    "Напишите функцию, которая записывает ваш список словарей в файл в нужном формате, сортируя его по выбранному полю по возрастанию или убыванию."
   ]
  },
  {
   "cell_type": "code",
   "execution_count": 91,
   "metadata": {},
   "outputs": [],
   "source": [
    "def dump(film_list: List[Dict[str, Any]], \n",
    "         path: str, \n",
    "         filetype: str = 'csv', \n",
    "         order_by: str = 'rank',\n",
    "         ascending: bool = True) -> None:\n",
    "    \n",
    "#     if type(film_list) != list:\n",
    "#         raise TypeError('film_list must be a list') #, not a {}'.format(type(film_list))\n",
    "    \n",
    "#     if type(path) != str:\n",
    "#         raise TypeError('path must be a string')\n",
    "    \n",
    "    fieldnames = ['rank', 'name', 'kp_rating',\n",
    "                  'imdb_rating', 'year', 'url', \n",
    "                  '_utc_timestamp']\n",
    "        \n",
    "    if order_by not in fieldnames:\n",
    "        raise ValueError('results can be ordered by \"{}\"'.format('\", \"'.join(fieldnames)))\n",
    "        \n",
    "    if filetype not in ['csv', 'tsv', 'json', 'jsonl']:\n",
    "        raise ValueError('wrong filetype, supported formats are \"csv\", \"tsv\", \"json\", \"jsonl\"')\n",
    "        \n",
    "#     assert type(ascending) == bool, 'ascending must be a bool (True/False)'\n",
    "    \n",
    "    output_list = sorted(film_list, key=lambda x: x[order_by], reverse = not ascending)\n",
    "    \n",
    "    \n",
    "    with open(path, 'w', encoding='utf-8', newline='') as f:\n",
    "        if filetype == 'json':\n",
    "            import json\n",
    "            f.write(json.dumps(output_list, ensure_ascii=False, indent=1, sort_keys=False))\n",
    "        elif filetype == 'jsonl':\n",
    "            import json\n",
    "            for item in output_list:\n",
    "                f.write(json.dumps(item, ensure_ascii=False, indent=None))\n",
    "                f.write('\\n')\n",
    "        elif filetype == 'csv':\n",
    "            import csv\n",
    "            writer = csv.DictWriter(f, delimiter=';',\n",
    "                    fieldnames = fieldnames)\n",
    "            writer.writeheader()\n",
    "            for item in output_list:\n",
    "                writer.writerow(item)\n",
    "        elif filetype == 'tsv':\n",
    "            import csv\n",
    "            writer = csv.DictWriter(f, delimiter='\\t',\n",
    "                    fieldnames = fieldnames)\n",
    "            writer.writeheader()\n",
    "            for item in  output_list:\n",
    "                writer.writerow(item)\n",
    "                \n",
    "    print('Dumped at \"{}\"'.format(path))\n",
    "    pass"
   ]
  },
  {
   "cell_type": "code",
   "execution_count": 92,
   "metadata": {},
   "outputs": [
    {
     "name": "stdout",
     "output_type": "stream",
     "text": [
      "Dumped at \"output.tsv\"\n"
     ]
    }
   ],
   "source": [
    "dump(top500, 'output.tsv', filetype='tsv', order_by='rank', ascending=True)"
   ]
  },
  {
   "cell_type": "code",
   "execution_count": 550,
   "metadata": {},
   "outputs": [
    {
     "name": "stdout",
     "output_type": "stream",
     "text": [
      "Dumped at \"output.csv\"\n"
     ]
    }
   ],
   "source": [
    "dump(top500, 'output.csv', filetype='csv', order_by='rank', ascending=False)"
   ]
  },
  {
   "cell_type": "code",
   "execution_count": 551,
   "metadata": {},
   "outputs": [
    {
     "name": "stdout",
     "output_type": "stream",
     "text": [
      "Dumped at \"output.json\"\n"
     ]
    }
   ],
   "source": [
    "dump(top500, 'output.json', filetype='json', order_by='kp_rating', ascending=True)"
   ]
  },
  {
   "cell_type": "code",
   "execution_count": 552,
   "metadata": {},
   "outputs": [
    {
     "name": "stdout",
     "output_type": "stream",
     "text": [
      "Dumped at \"output.jsonl\"\n"
     ]
    }
   ],
   "source": [
    "dump(top500, 'output.jsonl', filetype='jsonl', order_by='imdb_rating', ascending=False)"
   ]
  },
  {
   "cell_type": "code",
   "execution_count": 553,
   "metadata": {},
   "outputs": [
    {
     "ename": "ValueError",
     "evalue": "wrong filetype, supported formats are \"csv\", \"tsv\", \"json\", \"jsonl\"",
     "output_type": "error",
     "traceback": [
      "\u001b[1;31m---------------------------------------------------------------------------\u001b[0m",
      "\u001b[1;31mValueError\u001b[0m                                Traceback (most recent call last)",
      "\u001b[1;32m<ipython-input-553-37740ec69156>\u001b[0m in \u001b[0;36m<module>\u001b[1;34m\u001b[0m\n\u001b[1;32m----> 1\u001b[1;33m \u001b[0mdump\u001b[0m\u001b[1;33m(\u001b[0m\u001b[0mtop500\u001b[0m\u001b[1;33m,\u001b[0m \u001b[1;34m'wrong.file'\u001b[0m\u001b[1;33m,\u001b[0m \u001b[0mfiletype\u001b[0m\u001b[1;33m=\u001b[0m\u001b[1;34m'txt'\u001b[0m\u001b[1;33m,\u001b[0m \u001b[0morder_by\u001b[0m\u001b[1;33m=\u001b[0m\u001b[1;34m'imdb_rating'\u001b[0m\u001b[1;33m,\u001b[0m \u001b[0mascending\u001b[0m\u001b[1;33m=\u001b[0m\u001b[1;32mFalse\u001b[0m\u001b[1;33m)\u001b[0m\u001b[1;33m\u001b[0m\u001b[1;33m\u001b[0m\u001b[0m\n\u001b[0m",
      "\u001b[1;32m<ipython-input-548-1d85d52052df>\u001b[0m in \u001b[0;36mdump\u001b[1;34m(film_list, path, filetype, order_by, ascending)\u001b[0m\n\u001b[0;32m     19\u001b[0m \u001b[1;33m\u001b[0m\u001b[0m\n\u001b[0;32m     20\u001b[0m     \u001b[1;32mif\u001b[0m \u001b[0mfiletype\u001b[0m \u001b[1;32mnot\u001b[0m \u001b[1;32min\u001b[0m \u001b[1;33m[\u001b[0m\u001b[1;34m'csv'\u001b[0m\u001b[1;33m,\u001b[0m \u001b[1;34m'tsv'\u001b[0m\u001b[1;33m,\u001b[0m \u001b[1;34m'json'\u001b[0m\u001b[1;33m,\u001b[0m \u001b[1;34m'jsonl'\u001b[0m\u001b[1;33m]\u001b[0m\u001b[1;33m:\u001b[0m\u001b[1;33m\u001b[0m\u001b[1;33m\u001b[0m\u001b[0m\n\u001b[1;32m---> 21\u001b[1;33m         \u001b[1;32mraise\u001b[0m \u001b[0mValueError\u001b[0m\u001b[1;33m(\u001b[0m\u001b[1;34m'wrong filetype, supported formats are \"csv\", \"tsv\", \"json\", \"jsonl\"'\u001b[0m\u001b[1;33m)\u001b[0m\u001b[1;33m\u001b[0m\u001b[1;33m\u001b[0m\u001b[0m\n\u001b[0m\u001b[0;32m     22\u001b[0m \u001b[1;33m\u001b[0m\u001b[0m\n\u001b[0;32m     23\u001b[0m \u001b[1;31m#     assert type(ascending) == bool, 'ascending must be a bool (True/False)'\u001b[0m\u001b[1;33m\u001b[0m\u001b[1;33m\u001b[0m\u001b[1;33m\u001b[0m\u001b[0m\n",
      "\u001b[1;31mValueError\u001b[0m: wrong filetype, supported formats are \"csv\", \"tsv\", \"json\", \"jsonl\""
     ]
    }
   ],
   "source": [
    "dump(top500, 'wrong.file', filetype='txt', order_by='imdb_rating', ascending=False)"
   ]
  },
  {
   "cell_type": "code",
   "execution_count": 554,
   "metadata": {},
   "outputs": [
    {
     "ename": "ValueError",
     "evalue": "results can be ordered by \"rank\", \"name\", \"kp_rating\", \"imdb_rating\", \"year\", \"url\", \"_utc_timestamp\"",
     "output_type": "error",
     "traceback": [
      "\u001b[1;31m---------------------------------------------------------------------------\u001b[0m",
      "\u001b[1;31mValueError\u001b[0m                                Traceback (most recent call last)",
      "\u001b[1;32m<ipython-input-554-a686fb4fa4f6>\u001b[0m in \u001b[0;36m<module>\u001b[1;34m\u001b[0m\n\u001b[1;32m----> 1\u001b[1;33m \u001b[0mdump\u001b[0m\u001b[1;33m(\u001b[0m\u001b[0mtop500\u001b[0m\u001b[1;33m,\u001b[0m \u001b[1;34m'wrong.jsonl'\u001b[0m\u001b[1;33m,\u001b[0m \u001b[0mfiletype\u001b[0m\u001b[1;33m=\u001b[0m\u001b[1;34m'jsonl'\u001b[0m\u001b[1;33m,\u001b[0m \u001b[0morder_by\u001b[0m\u001b[1;33m=\u001b[0m\u001b[1;36m10\u001b[0m\u001b[1;33m,\u001b[0m \u001b[0mascending\u001b[0m\u001b[1;33m=\u001b[0m\u001b[1;32mFalse\u001b[0m\u001b[1;33m)\u001b[0m\u001b[1;33m\u001b[0m\u001b[1;33m\u001b[0m\u001b[0m\n\u001b[0m",
      "\u001b[1;32m<ipython-input-548-1d85d52052df>\u001b[0m in \u001b[0;36mdump\u001b[1;34m(film_list, path, filetype, order_by, ascending)\u001b[0m\n\u001b[0;32m     16\u001b[0m \u001b[1;33m\u001b[0m\u001b[0m\n\u001b[0;32m     17\u001b[0m     \u001b[1;32mif\u001b[0m \u001b[0morder_by\u001b[0m \u001b[1;32mnot\u001b[0m \u001b[1;32min\u001b[0m \u001b[0mfieldnames\u001b[0m\u001b[1;33m:\u001b[0m\u001b[1;33m\u001b[0m\u001b[1;33m\u001b[0m\u001b[0m\n\u001b[1;32m---> 18\u001b[1;33m         \u001b[1;32mraise\u001b[0m \u001b[0mValueError\u001b[0m\u001b[1;33m(\u001b[0m\u001b[1;34m'results can be ordered by \"{}\"'\u001b[0m\u001b[1;33m.\u001b[0m\u001b[0mformat\u001b[0m\u001b[1;33m(\u001b[0m\u001b[1;34m'\", \"'\u001b[0m\u001b[1;33m.\u001b[0m\u001b[0mjoin\u001b[0m\u001b[1;33m(\u001b[0m\u001b[0mfieldnames\u001b[0m\u001b[1;33m)\u001b[0m\u001b[1;33m)\u001b[0m\u001b[1;33m)\u001b[0m\u001b[1;33m\u001b[0m\u001b[1;33m\u001b[0m\u001b[0m\n\u001b[0m\u001b[0;32m     19\u001b[0m \u001b[1;33m\u001b[0m\u001b[0m\n\u001b[0;32m     20\u001b[0m     \u001b[1;32mif\u001b[0m \u001b[0mfiletype\u001b[0m \u001b[1;32mnot\u001b[0m \u001b[1;32min\u001b[0m \u001b[1;33m[\u001b[0m\u001b[1;34m'csv'\u001b[0m\u001b[1;33m,\u001b[0m \u001b[1;34m'tsv'\u001b[0m\u001b[1;33m,\u001b[0m \u001b[1;34m'json'\u001b[0m\u001b[1;33m,\u001b[0m \u001b[1;34m'jsonl'\u001b[0m\u001b[1;33m]\u001b[0m\u001b[1;33m:\u001b[0m\u001b[1;33m\u001b[0m\u001b[1;33m\u001b[0m\u001b[0m\n",
      "\u001b[1;31mValueError\u001b[0m: results can be ordered by \"rank\", \"name\", \"kp_rating\", \"imdb_rating\", \"year\", \"url\", \"_utc_timestamp\""
     ]
    }
   ],
   "source": [
    "dump(top500, 'wrong.jsonl', filetype='jsonl', order_by=10, ascending=False)"
   ]
  },
  {
   "cell_type": "code",
   "execution_count": null,
   "metadata": {},
   "outputs": [],
   "source": [
    "dump('lol', 'wrong.file', filetype='txt', order_by='id', ascending=1)"
   ]
  },
  {
   "cell_type": "markdown",
   "metadata": {},
   "source": [
    "## Часть 2\n",
    "\n",
    "Напишите функцию, возвращающую строку, представлящую случайный IPv4-адрес"
   ]
  },
  {
   "cell_type": "code",
   "execution_count": 71,
   "metadata": {},
   "outputs": [],
   "source": [
    "import random"
   ]
  },
  {
   "cell_type": "code",
   "execution_count": 72,
   "metadata": {},
   "outputs": [],
   "source": [
    "def make_ip() -> str:\n",
    "    return '.'.join([str(random.randint(0, 255)) for i in range(4)])"
   ]
  },
  {
   "cell_type": "code",
   "execution_count": 73,
   "metadata": {},
   "outputs": [
    {
     "data": {
      "text/plain": [
       "'195.105.250.35'"
      ]
     },
     "execution_count": 73,
     "metadata": {},
     "output_type": "execute_result"
    }
   ],
   "source": [
    "make_ip()"
   ]
  },
  {
   "cell_type": "markdown",
   "metadata": {},
   "source": [
    "Сгенерируйте список из 100 разных IPv4-адресов"
   ]
  },
  {
   "cell_type": "code",
   "execution_count": 30,
   "metadata": {},
   "outputs": [],
   "source": [
    "ip100 = []\n",
    "while len(ip100) < 100:\n",
    "    ip = make_ip()\n",
    "    if ip not in ip100:\n",
    "        ip100.append(ip)\n",
    "    else:\n",
    "        print('хотя вероятность повторения была 0.0000000002365044290627876, {} все же сгенерировался дважды'.format(ip))"
   ]
  },
  {
   "cell_type": "code",
   "execution_count": 31,
   "metadata": {},
   "outputs": [
    {
     "data": {
      "text/plain": [
       "100"
      ]
     },
     "execution_count": 31,
     "metadata": {},
     "output_type": "execute_result"
    }
   ],
   "source": [
    "len(ip100)"
   ]
  },
  {
   "cell_type": "code",
   "execution_count": 32,
   "metadata": {},
   "outputs": [
    {
     "name": "stdout",
     "output_type": "stream",
     "text": [
      "['7.2.253.195', '202.11.109.169', '16.79.67.15', '64.232.245.211', '162.131.144.128', '182.53.217.40', '95.209.252.168', '103.101.50.3', '65.69.192.243', '13.129.222.239', '209.58.118.158', '45.116.189.189', '48.129.5.202', '136.220.241.150', '142.162.149.54', '112.159.120.92', '30.12.77.109', '128.140.95.44', '147.94.58.252', '175.241.98.195', '50.33.19.231', '75.183.125.197', '179.219.125.21', '246.99.22.120', '76.226.183.180', '191.216.233.223', '232.90.177.38', '37.12.162.135', '140.250.18.45', '7.132.146.104', '96.234.236.204', '100.123.189.160', '134.227.36.195', '217.216.33.186', '12.111.229.208', '21.136.38.131', '17.143.229.102', '29.248.161.101', '243.90.180.154', '66.167.205.85', '38.3.27.153', '180.147.224.215', '2.140.154.193', '3.170.156.214', '195.120.195.138', '252.15.181.191', '155.90.216.16', '190.245.51.217', '169.164.44.40', '177.64.71.216', '37.59.162.161', '174.57.73.170', '217.90.198.142', '140.27.108.253', '153.180.174.27', '97.92.2.27', '175.253.72.215', '194.252.231.12', '180.248.121.25', '100.186.22.182', '161.223.28.142', '141.72.72.124', '131.95.169.99', '231.241.87.241', '191.58.234.25', '163.146.41.141', '87.140.242.124', '36.167.137.215', '127.153.141.23', '227.246.85.46', '212.154.201.102', '197.111.251.66', '15.25.196.46', '148.6.134.107', '41.3.244.94', '163.128.181.34', '197.227.222.22', '225.160.19.36', '147.66.50.117', '168.6.200.251', '216.111.1.14', '164.137.236.55', '64.189.2.55', '241.244.146.193', '178.101.142.238', '81.95.77.133', '137.93.127.132', '150.51.234.46', '84.141.170.13', '187.168.245.116', '88.226.211.235', '186.2.179.32', '68.18.210.6', '41.102.77.228', '156.98.245.183', '135.54.194.24', '123.170.220.33', '217.102.76.185', '222.97.15.114', '236.13.121.128']\n"
     ]
    }
   ],
   "source": [
    "print(ip100)"
   ]
  },
  {
   "cell_type": "markdown",
   "metadata": {},
   "source": [
    "С помощью https://freegeoip.app/ выгрузите для каждого из этих адресов информацию в формате JSON"
   ]
  },
  {
   "cell_type": "code",
   "execution_count": 93,
   "metadata": {},
   "outputs": [
    {
     "name": "stderr",
     "output_type": "stream",
     "text": [
      "100%|████████████████████████████████████████████████████████████████████████████████| 100/100 [01:29<00:00,  1.10it/s]\n"
     ]
    }
   ],
   "source": [
    "location100 = []\n",
    "loc = []\n",
    "for ip in tqdm(ip100):\n",
    "    url = \"https://freegeoip.app/json/{}\".format(ip)\n",
    "    headers = {'accept': \"application/json\", 'content-type': \"application/json\"}\n",
    "    response = requests.request(\"GET\", url, headers=headers)\n",
    "    location100.append(json.loads(response.text))\n",
    "    time.sleep(random.uniform(0.5, 1)) # why tho?"
   ]
  },
  {
   "cell_type": "code",
   "execution_count": 91,
   "metadata": {},
   "outputs": [
    {
     "data": {
      "text/plain": [
       "{'ip': '7.2.253.195',\n",
       " 'country_code': 'US',\n",
       " 'country_name': 'United States',\n",
       " 'region_code': '',\n",
       " 'region_name': '',\n",
       " 'city': '',\n",
       " 'zip_code': '',\n",
       " 'time_zone': 'America/Chicago',\n",
       " 'latitude': 37.751,\n",
       " 'longitude': -97.822,\n",
       " 'metro_code': 0}"
      ]
     },
     "execution_count": 91,
     "metadata": {},
     "output_type": "execute_result"
    }
   ],
   "source": [
    "location100[0]"
   ]
  },
  {
   "cell_type": "code",
   "execution_count": 178,
   "metadata": {},
   "outputs": [
    {
     "data": {
      "text/plain": [
       "{'ip': '236.13.121.128',\n",
       " 'country_code': '',\n",
       " 'country_name': '',\n",
       " 'region_code': '',\n",
       " 'region_name': '',\n",
       " 'city': '',\n",
       " 'zip_code': '',\n",
       " 'time_zone': '',\n",
       " 'latitude': 0,\n",
       " 'longitude': 0,\n",
       " 'metro_code': 0}"
      ]
     },
     "execution_count": 178,
     "metadata": {},
     "output_type": "execute_result"
    }
   ],
   "source": [
    "location100[-1]"
   ]
  },
  {
   "cell_type": "markdown",
   "metadata": {},
   "source": [
    "че по зонам?"
   ]
  },
  {
   "cell_type": "code",
   "execution_count": 179,
   "metadata": {},
   "outputs": [],
   "source": [
    "from collections import Counter"
   ]
  },
  {
   "cell_type": "code",
   "execution_count": 180,
   "metadata": {},
   "outputs": [],
   "source": [
    "timezones = dict(Counter([l['time_zone'] for l in location100]).most_common())"
   ]
  },
  {
   "cell_type": "code",
   "execution_count": 181,
   "metadata": {},
   "outputs": [
    {
     "data": {
      "text/plain": [
       "{'America/Chicago': 30,\n",
       " '': 12,\n",
       " 'Asia/Tokyo': 5,\n",
       " 'Asia/Seoul': 4,\n",
       " 'America/New_York': 4,\n",
       " 'America/Sao_Paulo': 4,\n",
       " 'Europe/Madrid': 4,\n",
       " 'Europe/Berlin': 4,\n",
       " 'Europe/Paris': 3,\n",
       " 'Asia/Shanghai': 3,\n",
       " 'America/Los_Angeles': 2,\n",
       " 'Africa/Johannesburg': 2,\n",
       " 'Europe/London': 2,\n",
       " 'Asia/Bangkok': 1,\n",
       " 'Europe/Stockholm': 1,\n",
       " 'Asia/Kuching': 1,\n",
       " 'Asia/Kolkata': 1,\n",
       " 'America/St_Johns': 1,\n",
       " 'Asia/Tehran': 1,\n",
       " 'America/Detroit': 1,\n",
       " 'Europe/Rome': 1,\n",
       " 'America/Argentina/Buenos_Aires': 1,\n",
       " 'Europe/Helsinki': 1,\n",
       " 'Asia/Makassar': 1,\n",
       " 'Asia/Almaty': 1,\n",
       " 'Europe/Budapest': 1,\n",
       " 'Indian/Mauritius': 1,\n",
       " 'Australia/Sydney': 1,\n",
       " 'Europe/Oslo': 1,\n",
       " 'America/Mexico_City': 1,\n",
       " 'Europe/Istanbul': 1,\n",
       " 'America/Curacao': 1,\n",
       " 'Africa/Algiers': 1,\n",
       " 'Europe/Amsterdam': 1}"
      ]
     },
     "execution_count": 181,
     "metadata": {},
     "output_type": "execute_result"
    }
   ],
   "source": [
    "timezones"
   ]
  },
  {
   "cell_type": "markdown",
   "metadata": {},
   "source": [
    "Сгенерируйте случайный момент времени в 2019 году (по UTC времени)"
   ]
  },
  {
   "cell_type": "code",
   "execution_count": 182,
   "metadata": {},
   "outputs": [],
   "source": [
    "import datetime\n",
    "import random \n",
    "import pytz"
   ]
  },
  {
   "cell_type": "code",
   "execution_count": 183,
   "metadata": {},
   "outputs": [
    {
     "name": "stdout",
     "output_type": "stream",
     "text": [
      "Случайный момент: 2019-07-27 09:17:02.880592+00:00\n",
      "в виде unix timestamp: 1564219022.880592\n"
     ]
    }
   ],
   "source": [
    "start_date = datetime.datetime(2019, 1, 1, 0, 0, 0, \n",
    "                               tzinfo = datetime.timezone.utc).timestamp()\n",
    "end_date = datetime.datetime(2019, 12, 31, 23, 59, 59, \n",
    "                             tzinfo = datetime.timezone.utc).timestamp()\n",
    "offset = (end_date - start_date) * random.random()\n",
    "\n",
    "timestamp = start_date + offset\n",
    "moment = datetime.datetime.fromtimestamp(timestamp, datetime.timezone.utc)\n",
    "\n",
    "print('Случайный момент:', moment)\n",
    "print('в виде unix timestamp:', timestamp)"
   ]
  },
  {
   "cell_type": "code",
   "execution_count": 184,
   "metadata": {},
   "outputs": [
    {
     "name": "stdout",
     "output_type": "stream",
     "text": [
      "2019-07-27 10:17:02.880592+01:00 Africa/Algiers\n",
      "2019-07-27 11:17:02.880592+02:00 Africa/Johannesburg\n",
      "2019-07-27 06:17:02.880592-03:00 America/Argentina/Buenos_Aires\n",
      "2019-07-27 04:17:02.880592-05:00 America/Chicago\n",
      "2019-07-27 05:17:02.880592-04:00 America/Curacao\n",
      "2019-07-27 05:17:02.880592-04:00 America/Detroit\n",
      "2019-07-27 02:17:02.880592-07:00 America/Los_Angeles\n",
      "2019-07-27 04:17:02.880592-05:00 America/Mexico_City\n",
      "2019-07-27 05:17:02.880592-04:00 America/New_York\n",
      "2019-07-27 06:17:02.880592-03:00 America/Sao_Paulo\n",
      "2019-07-27 06:47:02.880592-02:30 America/St_Johns\n",
      "2019-07-27 15:17:02.880592+06:00 Asia/Almaty\n",
      "2019-07-27 16:17:02.880592+07:00 Asia/Bangkok\n",
      "2019-07-27 14:47:02.880592+05:30 Asia/Kolkata\n",
      "2019-07-27 17:17:02.880592+08:00 Asia/Kuching\n",
      "2019-07-27 17:17:02.880592+08:00 Asia/Makassar\n",
      "2019-07-27 18:17:02.880592+09:00 Asia/Seoul\n",
      "2019-07-27 17:17:02.880592+08:00 Asia/Shanghai\n",
      "2019-07-27 13:47:02.880592+04:30 Asia/Tehran\n",
      "2019-07-27 18:17:02.880592+09:00 Asia/Tokyo\n",
      "2019-07-27 19:17:02.880592+10:00 Australia/Sydney\n",
      "2019-07-27 11:17:02.880592+02:00 Europe/Amsterdam\n",
      "2019-07-27 11:17:02.880592+02:00 Europe/Berlin\n",
      "2019-07-27 11:17:02.880592+02:00 Europe/Budapest\n",
      "2019-07-27 12:17:02.880592+03:00 Europe/Helsinki\n",
      "2019-07-27 12:17:02.880592+03:00 Europe/Istanbul\n",
      "2019-07-27 10:17:02.880592+01:00 Europe/London\n",
      "2019-07-27 11:17:02.880592+02:00 Europe/Madrid\n",
      "2019-07-27 11:17:02.880592+02:00 Europe/Oslo\n",
      "2019-07-27 11:17:02.880592+02:00 Europe/Paris\n",
      "2019-07-27 11:17:02.880592+02:00 Europe/Rome\n",
      "2019-07-27 11:17:02.880592+02:00 Europe/Stockholm\n",
      "2019-07-27 13:17:02.880592+04:00 Indian/Mauritius\n"
     ]
    }
   ],
   "source": [
    "for timezone in sorted(timezones.keys()):\n",
    "    if timezone != '':\n",
    "        print(moment.astimezone(pytz.timezone(timezone)), timezone)"
   ]
  },
  {
   "cell_type": "code",
   "execution_count": null,
   "metadata": {},
   "outputs": [],
   "source": []
  }
 ],
 "metadata": {
  "kernelspec": {
   "display_name": "Python 3",
   "language": "python",
   "name": "python3"
  },
  "language_info": {
   "codemirror_mode": {
    "name": "ipython",
    "version": 3
   },
   "file_extension": ".py",
   "mimetype": "text/x-python",
   "name": "python",
   "nbconvert_exporter": "python",
   "pygments_lexer": "ipython3",
   "version": "3.7.3"
  }
 },
 "nbformat": 4,
 "nbformat_minor": 2
}
